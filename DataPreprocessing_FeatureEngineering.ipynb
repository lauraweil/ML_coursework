{
 "cells": [
  {
   "cell_type": "markdown",
   "metadata": {},
   "source": [
    "# 2487-2223 Machine Learning Assignment 1\n",
    "\n"
   ]
  },
  {
   "cell_type": "markdown",
   "metadata": {},
   "source": [
    "## Question 1 (25 points) - Zestimate this House\n",
    "\n",
    "Purchasing a house is a very big decision for most of us. Companies such as Zillows collected tons of data regarding the listing and sold price of American houses and build the predictive model, named *Zestimate*. You are expected to build a model similar as Zestimate to predict house price in Boston. \n",
    "\n",
    "![zestimate](https://i0.wp.com/www.housesoldeasy.com/wp-content/uploads/Screen-Shot-2016-08-15-at-7.22.09-PM.png?resize=300%2C258&ssl=1)"
   ]
  },
  {
   "cell_type": "code",
   "execution_count": 383,
   "metadata": {},
   "outputs": [
    {
     "data": {
      "text/plain": [
       "'/Users/lauraweil/Documents/Machine Learning/Ind_ass1'"
      ]
     },
     "execution_count": 383,
     "metadata": {},
     "output_type": "execute_result"
    }
   ],
   "source": [
    "pwd"
   ]
  },
  {
   "cell_type": "code",
   "execution_count": 1,
   "metadata": {},
   "outputs": [],
   "source": [
    "import pandas as pd\n",
    "import numpy as np"
   ]
  },
  {
   "cell_type": "code",
   "execution_count": 3,
   "metadata": {},
   "outputs": [
    {
     "name": "stdout",
     "output_type": "stream",
     "text": [
      "Data loaded correctly.\n",
      "Features: X. Target variable (price): y.\n",
      "X shape:  (506, 13) y shape:  (506,)\n"
     ]
    }
   ],
   "source": [
    "### DON'T MODIFY - LOAD DATA ### \n",
    "\n",
    "data_url = \"http://lib.stat.cmu.edu/datasets/boston\" \n",
    "raw_df = pd.read_csv(data_url, sep=\"\\s+\", skiprows=22, header=None)\n",
    "X = np.hstack([raw_df.values[::2, :], raw_df.values[1::2, :2]]) # FEATURES \n",
    "y = raw_df.values[1::2, 2] # TARGET VARIABLE\n",
    "assert X.shape[0] == y.shape[0], 'Mismatch in number of examples.'\n",
    "print('Data loaded correctly.')\n",
    "print('Features: X. Target variable (price): y.')\n",
    "print('X shape: ',X.shape, 'y shape: ', y.shape)\n",
    "### END ###"
   ]
  },
  {
   "cell_type": "markdown",
   "metadata": {},
   "source": [
    "## EDA"
   ]
  },
  {
   "cell_type": "code",
   "execution_count": 5,
   "metadata": {},
   "outputs": [
    {
     "data": {
      "text/plain": [
       "11"
      ]
     },
     "execution_count": 5,
     "metadata": {},
     "output_type": "execute_result"
    }
   ],
   "source": [
    "#number of columns\n",
    "raw_df.shape[1]"
   ]
  },
  {
   "cell_type": "code",
   "execution_count": 6,
   "metadata": {},
   "outputs": [
    {
     "data": {
      "text/html": [
       "<div>\n",
       "<style scoped>\n",
       "    .dataframe tbody tr th:only-of-type {\n",
       "        vertical-align: middle;\n",
       "    }\n",
       "\n",
       "    .dataframe tbody tr th {\n",
       "        vertical-align: top;\n",
       "    }\n",
       "\n",
       "    .dataframe thead th {\n",
       "        text-align: right;\n",
       "    }\n",
       "</style>\n",
       "<table border=\"1\" class=\"dataframe\">\n",
       "  <thead>\n",
       "    <tr style=\"text-align: right;\">\n",
       "      <th></th>\n",
       "      <th>0</th>\n",
       "      <th>1</th>\n",
       "      <th>2</th>\n",
       "      <th>3</th>\n",
       "      <th>4</th>\n",
       "      <th>5</th>\n",
       "      <th>6</th>\n",
       "      <th>7</th>\n",
       "      <th>8</th>\n",
       "      <th>9</th>\n",
       "      <th>10</th>\n",
       "    </tr>\n",
       "  </thead>\n",
       "  <tbody>\n",
       "    <tr>\n",
       "      <th>0</th>\n",
       "      <td>0.00632</td>\n",
       "      <td>18.00</td>\n",
       "      <td>2.31</td>\n",
       "      <td>0.0</td>\n",
       "      <td>0.538</td>\n",
       "      <td>6.575</td>\n",
       "      <td>65.2</td>\n",
       "      <td>4.0900</td>\n",
       "      <td>1.0</td>\n",
       "      <td>296.0</td>\n",
       "      <td>15.3</td>\n",
       "    </tr>\n",
       "    <tr>\n",
       "      <th>1</th>\n",
       "      <td>396.90000</td>\n",
       "      <td>4.98</td>\n",
       "      <td>24.00</td>\n",
       "      <td>NaN</td>\n",
       "      <td>NaN</td>\n",
       "      <td>NaN</td>\n",
       "      <td>NaN</td>\n",
       "      <td>NaN</td>\n",
       "      <td>NaN</td>\n",
       "      <td>NaN</td>\n",
       "      <td>NaN</td>\n",
       "    </tr>\n",
       "    <tr>\n",
       "      <th>2</th>\n",
       "      <td>0.02731</td>\n",
       "      <td>0.00</td>\n",
       "      <td>7.07</td>\n",
       "      <td>0.0</td>\n",
       "      <td>0.469</td>\n",
       "      <td>6.421</td>\n",
       "      <td>78.9</td>\n",
       "      <td>4.9671</td>\n",
       "      <td>2.0</td>\n",
       "      <td>242.0</td>\n",
       "      <td>17.8</td>\n",
       "    </tr>\n",
       "    <tr>\n",
       "      <th>3</th>\n",
       "      <td>396.90000</td>\n",
       "      <td>9.14</td>\n",
       "      <td>21.60</td>\n",
       "      <td>NaN</td>\n",
       "      <td>NaN</td>\n",
       "      <td>NaN</td>\n",
       "      <td>NaN</td>\n",
       "      <td>NaN</td>\n",
       "      <td>NaN</td>\n",
       "      <td>NaN</td>\n",
       "      <td>NaN</td>\n",
       "    </tr>\n",
       "    <tr>\n",
       "      <th>4</th>\n",
       "      <td>0.02729</td>\n",
       "      <td>0.00</td>\n",
       "      <td>7.07</td>\n",
       "      <td>0.0</td>\n",
       "      <td>0.469</td>\n",
       "      <td>7.185</td>\n",
       "      <td>61.1</td>\n",
       "      <td>4.9671</td>\n",
       "      <td>2.0</td>\n",
       "      <td>242.0</td>\n",
       "      <td>17.8</td>\n",
       "    </tr>\n",
       "  </tbody>\n",
       "</table>\n",
       "</div>"
      ],
      "text/plain": [
       "          0      1      2    3      4      5     6       7    8      9     10\n",
       "0    0.00632  18.00   2.31  0.0  0.538  6.575  65.2  4.0900  1.0  296.0  15.3\n",
       "1  396.90000   4.98  24.00  NaN    NaN    NaN   NaN     NaN  NaN    NaN   NaN\n",
       "2    0.02731   0.00   7.07  0.0  0.469  6.421  78.9  4.9671  2.0  242.0  17.8\n",
       "3  396.90000   9.14  21.60  NaN    NaN    NaN   NaN     NaN  NaN    NaN   NaN\n",
       "4    0.02729   0.00   7.07  0.0  0.469  7.185  61.1  4.9671  2.0  242.0  17.8"
      ]
     },
     "execution_count": 6,
     "metadata": {},
     "output_type": "execute_result"
    }
   ],
   "source": [
    "#head of dataframe\n",
    "raw_df.head()"
   ]
  },
  {
   "cell_type": "code",
   "execution_count": 7,
   "metadata": {},
   "outputs": [
    {
     "data": {
      "text/plain": [
       "506"
      ]
     },
     "execution_count": 7,
     "metadata": {},
     "output_type": "execute_result"
    }
   ],
   "source": [
    "len(X)"
   ]
  },
  {
   "cell_type": "code",
   "execution_count": 8,
   "metadata": {},
   "outputs": [
    {
     "data": {
      "text/plain": [
       "506"
      ]
     },
     "execution_count": 8,
     "metadata": {},
     "output_type": "execute_result"
    }
   ],
   "source": [
    "len(y)"
   ]
  },
  {
   "cell_type": "code",
   "execution_count": 4,
   "metadata": {},
   "outputs": [
    {
     "data": {
      "text/html": [
       "<div>\n",
       "<style scoped>\n",
       "    .dataframe tbody tr th:only-of-type {\n",
       "        vertical-align: middle;\n",
       "    }\n",
       "\n",
       "    .dataframe tbody tr th {\n",
       "        vertical-align: top;\n",
       "    }\n",
       "\n",
       "    .dataframe thead th {\n",
       "        text-align: right;\n",
       "    }\n",
       "</style>\n",
       "<table border=\"1\" class=\"dataframe\">\n",
       "  <thead>\n",
       "    <tr style=\"text-align: right;\">\n",
       "      <th></th>\n",
       "      <th>CRIM</th>\n",
       "      <th>ZN</th>\n",
       "      <th>INDUS</th>\n",
       "      <th>CHAS</th>\n",
       "      <th>NOX</th>\n",
       "      <th>RM</th>\n",
       "      <th>AGE</th>\n",
       "      <th>DIS</th>\n",
       "      <th>RAD</th>\n",
       "      <th>TAX</th>\n",
       "      <th>PTRATIO</th>\n",
       "      <th>B</th>\n",
       "      <th>LSTAT</th>\n",
       "      <th>MEDV</th>\n",
       "    </tr>\n",
       "  </thead>\n",
       "  <tbody>\n",
       "    <tr>\n",
       "      <th>0</th>\n",
       "      <td>0.00632</td>\n",
       "      <td>18.0</td>\n",
       "      <td>2.31</td>\n",
       "      <td>0.0</td>\n",
       "      <td>0.538</td>\n",
       "      <td>6.575</td>\n",
       "      <td>65.2</td>\n",
       "      <td>4.0900</td>\n",
       "      <td>1.0</td>\n",
       "      <td>296.0</td>\n",
       "      <td>15.3</td>\n",
       "      <td>396.90</td>\n",
       "      <td>4.98</td>\n",
       "      <td>24.0</td>\n",
       "    </tr>\n",
       "    <tr>\n",
       "      <th>1</th>\n",
       "      <td>0.02731</td>\n",
       "      <td>0.0</td>\n",
       "      <td>7.07</td>\n",
       "      <td>0.0</td>\n",
       "      <td>0.469</td>\n",
       "      <td>6.421</td>\n",
       "      <td>78.9</td>\n",
       "      <td>4.9671</td>\n",
       "      <td>2.0</td>\n",
       "      <td>242.0</td>\n",
       "      <td>17.8</td>\n",
       "      <td>396.90</td>\n",
       "      <td>9.14</td>\n",
       "      <td>21.6</td>\n",
       "    </tr>\n",
       "    <tr>\n",
       "      <th>2</th>\n",
       "      <td>0.02729</td>\n",
       "      <td>0.0</td>\n",
       "      <td>7.07</td>\n",
       "      <td>0.0</td>\n",
       "      <td>0.469</td>\n",
       "      <td>7.185</td>\n",
       "      <td>61.1</td>\n",
       "      <td>4.9671</td>\n",
       "      <td>2.0</td>\n",
       "      <td>242.0</td>\n",
       "      <td>17.8</td>\n",
       "      <td>392.83</td>\n",
       "      <td>4.03</td>\n",
       "      <td>34.7</td>\n",
       "    </tr>\n",
       "    <tr>\n",
       "      <th>3</th>\n",
       "      <td>0.03237</td>\n",
       "      <td>0.0</td>\n",
       "      <td>2.18</td>\n",
       "      <td>0.0</td>\n",
       "      <td>0.458</td>\n",
       "      <td>6.998</td>\n",
       "      <td>45.8</td>\n",
       "      <td>6.0622</td>\n",
       "      <td>3.0</td>\n",
       "      <td>222.0</td>\n",
       "      <td>18.7</td>\n",
       "      <td>394.63</td>\n",
       "      <td>2.94</td>\n",
       "      <td>33.4</td>\n",
       "    </tr>\n",
       "    <tr>\n",
       "      <th>4</th>\n",
       "      <td>0.06905</td>\n",
       "      <td>0.0</td>\n",
       "      <td>2.18</td>\n",
       "      <td>0.0</td>\n",
       "      <td>0.458</td>\n",
       "      <td>7.147</td>\n",
       "      <td>54.2</td>\n",
       "      <td>6.0622</td>\n",
       "      <td>3.0</td>\n",
       "      <td>222.0</td>\n",
       "      <td>18.7</td>\n",
       "      <td>396.90</td>\n",
       "      <td>5.33</td>\n",
       "      <td>36.2</td>\n",
       "    </tr>\n",
       "  </tbody>\n",
       "</table>\n",
       "</div>"
      ],
      "text/plain": [
       "      CRIM    ZN  INDUS  CHAS    NOX     RM   AGE     DIS  RAD    TAX  \\\n",
       "0  0.00632  18.0   2.31   0.0  0.538  6.575  65.2  4.0900  1.0  296.0   \n",
       "1  0.02731   0.0   7.07   0.0  0.469  6.421  78.9  4.9671  2.0  242.0   \n",
       "2  0.02729   0.0   7.07   0.0  0.469  7.185  61.1  4.9671  2.0  242.0   \n",
       "3  0.03237   0.0   2.18   0.0  0.458  6.998  45.8  6.0622  3.0  222.0   \n",
       "4  0.06905   0.0   2.18   0.0  0.458  7.147  54.2  6.0622  3.0  222.0   \n",
       "\n",
       "   PTRATIO       B  LSTAT  MEDV  \n",
       "0     15.3  396.90   4.98  24.0  \n",
       "1     17.8  396.90   9.14  21.6  \n",
       "2     17.8  392.83   4.03  34.7  \n",
       "3     18.7  394.63   2.94  33.4  \n",
       "4     18.7  396.90   5.33  36.2  "
      ]
     },
     "execution_count": 4,
     "metadata": {},
     "output_type": "execute_result"
    }
   ],
   "source": [
    "#creating pandas dataframe with X and y array with column names\n",
    "data = np.hstack([X, y.reshape(-1, 1)])\n",
    "column_names = column_names = ['CRIM', 'ZN', 'INDUS', 'CHAS', 'NOX', 'RM', 'AGE', 'DIS', 'RAD', 'TAX', 'PTRATIO', 'B', 'LSTAT', 'MEDV']\n",
    "df = pd.DataFrame(data, columns=column_names)\n",
    "df.head()"
   ]
  },
  {
   "cell_type": "markdown",
   "metadata": {},
   "source": [
    "#### Question 1.1 (5 points) \n",
    "Create train and test set, each contains 80% and 20% of the dataset, respectively, using *train_test_split* function in scikit-learn. Train a linear model on the train set and evaluate on the test set, report the training error and test error, respectively (as mean squared error)."
   ]
  },
  {
   "cell_type": "code",
   "execution_count": 9,
   "metadata": {},
   "outputs": [],
   "source": [
    "import sklearn"
   ]
  },
  {
   "cell_type": "code",
   "execution_count": 17,
   "metadata": {},
   "outputs": [],
   "source": [
    "from sklearn import linear_model\n",
    "from sklearn.preprocessing import PolynomialFeatures\n",
    "from sklearn.model_selection import train_test_split\n",
    "from sklearn.metrics import mean_squared_error\n",
    "seed = 3 "
   ]
  },
  {
   "cell_type": "code",
   "execution_count": 48,
   "metadata": {},
   "outputs": [],
   "source": [
    "train_set, test_set = train_test_split(df, test_size = 0.2, random_state = seed)\n",
    "model = linear_model.LinearRegression()"
   ]
  },
  {
   "cell_type": "code",
   "execution_count": 12,
   "metadata": {},
   "outputs": [],
   "source": [
    "#train set\n",
    "train_x = train_set.iloc[:,0:(len(train_set.columns)-1)] \n",
    "train_y = train_set.iloc[:,-1]"
   ]
  },
  {
   "cell_type": "code",
   "execution_count": 13,
   "metadata": {},
   "outputs": [
    {
     "data": {
      "text/plain": [
       "LinearRegression()"
      ]
     },
     "execution_count": 13,
     "metadata": {},
     "output_type": "execute_result"
    }
   ],
   "source": [
    "#training model on the train set \n",
    "model.fit(train_x,train_y)"
   ]
  },
  {
   "cell_type": "code",
   "execution_count": 14,
   "metadata": {},
   "outputs": [],
   "source": [
    "#test set\n",
    "test_x = test_set.iloc[:,0:(len(test_set.columns)-1)] \n",
    "test_y = test_set.iloc[:,-1]"
   ]
  },
  {
   "cell_type": "code",
   "execution_count": 15,
   "metadata": {},
   "outputs": [],
   "source": [
    "#Apply model to Training Set\n",
    "pred_train = model.predict(train_x)\n",
    "    \n",
    "# Apply model to Test Set\n",
    "pred_test = model.predict(test_x)"
   ]
  },
  {
   "cell_type": "code",
   "execution_count": 18,
   "metadata": {},
   "outputs": [],
   "source": [
    "# Compute square error on train data\n",
    "error_train = round(mean_squared_error(train_y, pred_train),2)\n",
    "    \n",
    "# Compute square error on test data (unseen)\n",
    "error_test = round(mean_squared_error(test_y, pred_test),2)"
   ]
  },
  {
   "cell_type": "code",
   "execution_count": 19,
   "metadata": {},
   "outputs": [
    {
     "name": "stdout",
     "output_type": "stream",
     "text": [
      "The training error is 23.41 and the test error is 16.94\n"
     ]
    }
   ],
   "source": [
    "print(f\"The training error is {error_train} and the test error is {error_test}\")"
   ]
  },
  {
   "cell_type": "markdown",
   "metadata": {},
   "source": [
    "#### Question 1.2 (5 points)\n",
    "\n",
    "Perform a 10-fold cross-validation on the whole data set. Show the averaged mean sqaured error on both train and test set at each fold. Explain your findings."
   ]
  },
  {
   "cell_type": "code",
   "execution_count": 20,
   "metadata": {},
   "outputs": [],
   "source": [
    "from sklearn.model_selection import KFold"
   ]
  },
  {
   "cell_type": "code",
   "execution_count": 21,
   "metadata": {},
   "outputs": [],
   "source": [
    "folds = KFold(n_splits=10, shuffle=True, random_state=42)\n",
    "\n",
    "#Lists with train and test MSEs respectively \n",
    "train_mse_list = []\n",
    "test_mse_list = []\n",
    "\n",
    "# Perform 10-fold cross-validation\n",
    "for train_index, test_index in folds.split(X):\n",
    "    X_train, X_test = X[train_index], X[test_index]\n",
    "    y_train, y_test = y[train_index], y[test_index]\n",
    "\n",
    "    #Training the model\n",
    "    model.fit(X_train, y_train)\n",
    "    \n",
    "    #MSE training set\n",
    "    y_train_pred = model.predict(X_train)\n",
    "    train_mse = mean_squared_error(y_train, y_train_pred)\n",
    "    train_mse_list.append(train_mse)\n",
    "    \n",
    "    #MSE test set\n",
    "    y_test_pred = model.predict(X_test)\n",
    "    test_mse = mean_squared_error(y_test, y_test_pred)\n",
    "    test_mse_list.append(test_mse)"
   ]
  },
  {
   "cell_type": "code",
   "execution_count": 22,
   "metadata": {},
   "outputs": [
    {
     "data": {
      "text/html": [
       "<div>\n",
       "<style scoped>\n",
       "    .dataframe tbody tr th:only-of-type {\n",
       "        vertical-align: middle;\n",
       "    }\n",
       "\n",
       "    .dataframe tbody tr th {\n",
       "        vertical-align: top;\n",
       "    }\n",
       "\n",
       "    .dataframe thead th {\n",
       "        text-align: right;\n",
       "    }\n",
       "</style>\n",
       "<table border=\"1\" class=\"dataframe\">\n",
       "  <thead>\n",
       "    <tr style=\"text-align: right;\">\n",
       "      <th></th>\n",
       "      <th>Fold</th>\n",
       "      <th>Train Error Simple</th>\n",
       "      <th>Test Error Simple</th>\n",
       "    </tr>\n",
       "  </thead>\n",
       "  <tbody>\n",
       "    <tr>\n",
       "      <th>0</th>\n",
       "      <td>1</td>\n",
       "      <td>22.737590</td>\n",
       "      <td>14.995853</td>\n",
       "    </tr>\n",
       "    <tr>\n",
       "      <th>1</th>\n",
       "      <td>2</td>\n",
       "      <td>20.852821</td>\n",
       "      <td>32.804525</td>\n",
       "    </tr>\n",
       "    <tr>\n",
       "      <th>2</th>\n",
       "      <td>3</td>\n",
       "      <td>22.523709</td>\n",
       "      <td>17.599677</td>\n",
       "    </tr>\n",
       "    <tr>\n",
       "      <th>3</th>\n",
       "      <td>4</td>\n",
       "      <td>21.777057</td>\n",
       "      <td>23.368827</td>\n",
       "    </tr>\n",
       "    <tr>\n",
       "      <th>4</th>\n",
       "      <td>5</td>\n",
       "      <td>20.476103</td>\n",
       "      <td>35.152553</td>\n",
       "    </tr>\n",
       "    <tr>\n",
       "      <th>5</th>\n",
       "      <td>6</td>\n",
       "      <td>22.262544</td>\n",
       "      <td>19.155889</td>\n",
       "    </tr>\n",
       "    <tr>\n",
       "      <th>6</th>\n",
       "      <td>7</td>\n",
       "      <td>21.696286</td>\n",
       "      <td>24.140705</td>\n",
       "    </tr>\n",
       "    <tr>\n",
       "      <th>7</th>\n",
       "      <td>8</td>\n",
       "      <td>22.206383</td>\n",
       "      <td>19.547712</td>\n",
       "    </tr>\n",
       "    <tr>\n",
       "      <th>8</th>\n",
       "      <td>9</td>\n",
       "      <td>22.188014</td>\n",
       "      <td>20.268154</td>\n",
       "    </tr>\n",
       "    <tr>\n",
       "      <th>9</th>\n",
       "      <td>10</td>\n",
       "      <td>21.465364</td>\n",
       "      <td>26.608136</td>\n",
       "    </tr>\n",
       "  </tbody>\n",
       "</table>\n",
       "</div>"
      ],
      "text/plain": [
       "   Fold  Train Error Simple  Test Error Simple\n",
       "0     1           22.737590          14.995853\n",
       "1     2           20.852821          32.804525\n",
       "2     3           22.523709          17.599677\n",
       "3     4           21.777057          23.368827\n",
       "4     5           20.476103          35.152553\n",
       "5     6           22.262544          19.155889\n",
       "6     7           21.696286          24.140705\n",
       "7     8           22.206383          19.547712\n",
       "8     9           22.188014          20.268154\n",
       "9    10           21.465364          26.608136"
      ]
     },
     "execution_count": 22,
     "metadata": {},
     "output_type": "execute_result"
    }
   ],
   "source": [
    "pd.DataFrame({\"Fold\": np.arange(1,11),\"Train Error Simple\": train_mse_list,\"Test Error Simple\":test_mse_list})"
   ]
  },
  {
   "cell_type": "markdown",
   "metadata": {},
   "source": [
    "**Explanation Question 1.2**\n",
    "\n",
    "The train error is the MSE of the linear regression model on the train set, while the test error is the MSE on the test set. Hence, we can say that the train error measures in sample performance, whereas the test error measures out of sample performance of the model. Considering the table above, we can see that the test error is generally higher than the train error. This means that the model has a relatively good fit, but it is not very good at generalizing to new data (i.e. the test data). Moreover, the test error is quite variable across folds, ranging from as low as 14.99% to as high as 35.15%. This indicates that the performance of the model can vary depending on the specific portion of the data that is used for testing. As a consequence, it is likely that the model is too sensitive to the train data, and therefore overfits, leading to high test errors. "
   ]
  },
  {
   "cell_type": "markdown",
   "metadata": {},
   "source": [
    "#### Question 1.3 (5 points) \n",
    " \n",
    "Add 2-degree squared polynomial features (with no interactions) and perform 10-fold cross-validation on the whole data set. Show the mean sqaured error on both train and test set at each fold. Explain your findings.\n",
    "\n",
    "Hint: you may use sklearn.preprocessing.PolynomialFeatures and check how it produces the polynomial features with/without interaction terms."
   ]
  },
  {
   "cell_type": "code",
   "execution_count": null,
   "metadata": {},
   "outputs": [],
   "source": [
    "sklearn.preprocessing.PolynomialFeatures"
   ]
  },
  {
   "cell_type": "code",
   "execution_count": 25,
   "metadata": {},
   "outputs": [],
   "source": [
    "poly = PolynomialFeatures(degree=2, interaction_only=False, include_bias=False)\n",
    "\n",
    "# Create an empty array with the same shape as X\n",
    "X_squared = np.empty_like(X)\n",
    "\n",
    "# Iterate through each column (feature) and square it element-wise\n",
    "for i in range(X.shape[1]):\n",
    "    X_squared[:, i] = X[:, i] ** 2\n",
    "    \n",
    "X_poly_no_interaction = np.hstack((X, X_squared))\n",
    "polydf = np.hstack([X_poly_no_interaction, y.reshape(-1, 1)])"
   ]
  },
  {
   "cell_type": "code",
   "execution_count": 26,
   "metadata": {},
   "outputs": [],
   "source": [
    "folds_poly = KFold(n_splits=10, shuffle=True, random_state=42)\n",
    "\n",
    "#Lists with train and test MSEs respectively \n",
    "polytrain_mse_list = []\n",
    "polytest_mse_list = []\n",
    "\n",
    "# Perform 10-fold cross-validation\n",
    "for train_index, test_index in folds_poly.split(X_poly_no_interaction):\n",
    "    X_train, X_test = X_poly_no_interaction[train_index], X_poly_no_interaction[test_index]\n",
    "    y_train, y_test = y[train_index], y[test_index]\n",
    "\n",
    "    #Training the model\n",
    "    model.fit(X_train, y_train)\n",
    "    \n",
    "    #MSE training set\n",
    "    y_train_pred = model.predict(X_train)\n",
    "    train_mse = mean_squared_error(y_train, y_train_pred)\n",
    "    polytrain_mse_list.append(train_mse)\n",
    "    \n",
    "    #MSE test set\n",
    "    y_test_pred = model.predict(X_test)\n",
    "    test_mse = mean_squared_error(y_test, y_test_pred)\n",
    "    polytest_mse_list.append(test_mse)"
   ]
  },
  {
   "cell_type": "code",
   "execution_count": 28,
   "metadata": {},
   "outputs": [
    {
     "data": {
      "text/html": [
       "<div>\n",
       "<style scoped>\n",
       "    .dataframe tbody tr th:only-of-type {\n",
       "        vertical-align: middle;\n",
       "    }\n",
       "\n",
       "    .dataframe tbody tr th {\n",
       "        vertical-align: top;\n",
       "    }\n",
       "\n",
       "    .dataframe thead th {\n",
       "        text-align: right;\n",
       "    }\n",
       "</style>\n",
       "<table border=\"1\" class=\"dataframe\">\n",
       "  <thead>\n",
       "    <tr style=\"text-align: right;\">\n",
       "      <th></th>\n",
       "      <th>Fold</th>\n",
       "      <th>Train Error Simple</th>\n",
       "      <th>Test Error Simple</th>\n",
       "    </tr>\n",
       "  </thead>\n",
       "  <tbody>\n",
       "    <tr>\n",
       "      <th>0</th>\n",
       "      <td>1</td>\n",
       "      <td>22.737590</td>\n",
       "      <td>14.995853</td>\n",
       "    </tr>\n",
       "    <tr>\n",
       "      <th>1</th>\n",
       "      <td>2</td>\n",
       "      <td>20.852821</td>\n",
       "      <td>32.804525</td>\n",
       "    </tr>\n",
       "    <tr>\n",
       "      <th>2</th>\n",
       "      <td>3</td>\n",
       "      <td>22.523709</td>\n",
       "      <td>17.599677</td>\n",
       "    </tr>\n",
       "    <tr>\n",
       "      <th>3</th>\n",
       "      <td>4</td>\n",
       "      <td>21.777057</td>\n",
       "      <td>23.368827</td>\n",
       "    </tr>\n",
       "    <tr>\n",
       "      <th>4</th>\n",
       "      <td>5</td>\n",
       "      <td>20.476103</td>\n",
       "      <td>35.152553</td>\n",
       "    </tr>\n",
       "    <tr>\n",
       "      <th>5</th>\n",
       "      <td>6</td>\n",
       "      <td>22.262544</td>\n",
       "      <td>19.155889</td>\n",
       "    </tr>\n",
       "    <tr>\n",
       "      <th>6</th>\n",
       "      <td>7</td>\n",
       "      <td>21.696286</td>\n",
       "      <td>24.140705</td>\n",
       "    </tr>\n",
       "    <tr>\n",
       "      <th>7</th>\n",
       "      <td>8</td>\n",
       "      <td>22.206383</td>\n",
       "      <td>19.547712</td>\n",
       "    </tr>\n",
       "    <tr>\n",
       "      <th>8</th>\n",
       "      <td>9</td>\n",
       "      <td>22.188014</td>\n",
       "      <td>20.268154</td>\n",
       "    </tr>\n",
       "    <tr>\n",
       "      <th>9</th>\n",
       "      <td>10</td>\n",
       "      <td>21.465364</td>\n",
       "      <td>26.608136</td>\n",
       "    </tr>\n",
       "  </tbody>\n",
       "</table>\n",
       "</div>"
      ],
      "text/plain": [
       "   Fold  Train Error Simple  Test Error Simple\n",
       "0     1           22.737590          14.995853\n",
       "1     2           20.852821          32.804525\n",
       "2     3           22.523709          17.599677\n",
       "3     4           21.777057          23.368827\n",
       "4     5           20.476103          35.152553\n",
       "5     6           22.262544          19.155889\n",
       "6     7           21.696286          24.140705\n",
       "7     8           22.206383          19.547712\n",
       "8     9           22.188014          20.268154\n",
       "9    10           21.465364          26.608136"
      ]
     },
     "execution_count": 28,
     "metadata": {},
     "output_type": "execute_result"
    }
   ],
   "source": [
    "pd.DataFrame({\"Fold\": np.arange(1,11),\"Train Error Simple\": train_mse_list,\"Test Error Simple\":test_mse_list})"
   ]
  },
  {
   "cell_type": "code",
   "execution_count": 27,
   "metadata": {},
   "outputs": [
    {
     "data": {
      "text/html": [
       "<div>\n",
       "<style scoped>\n",
       "    .dataframe tbody tr th:only-of-type {\n",
       "        vertical-align: middle;\n",
       "    }\n",
       "\n",
       "    .dataframe tbody tr th {\n",
       "        vertical-align: top;\n",
       "    }\n",
       "\n",
       "    .dataframe thead th {\n",
       "        text-align: right;\n",
       "    }\n",
       "</style>\n",
       "<table border=\"1\" class=\"dataframe\">\n",
       "  <thead>\n",
       "    <tr style=\"text-align: right;\">\n",
       "      <th></th>\n",
       "      <th>Fold</th>\n",
       "      <th>Train Error Poly</th>\n",
       "      <th>Test Error Poly</th>\n",
       "    </tr>\n",
       "  </thead>\n",
       "  <tbody>\n",
       "    <tr>\n",
       "      <th>0</th>\n",
       "      <td>1</td>\n",
       "      <td>15.006067</td>\n",
       "      <td>8.059258</td>\n",
       "    </tr>\n",
       "    <tr>\n",
       "      <th>1</th>\n",
       "      <td>2</td>\n",
       "      <td>13.758195</td>\n",
       "      <td>19.165389</td>\n",
       "    </tr>\n",
       "    <tr>\n",
       "      <th>2</th>\n",
       "      <td>3</td>\n",
       "      <td>14.685211</td>\n",
       "      <td>11.485820</td>\n",
       "    </tr>\n",
       "    <tr>\n",
       "      <th>3</th>\n",
       "      <td>4</td>\n",
       "      <td>14.219525</td>\n",
       "      <td>15.247364</td>\n",
       "    </tr>\n",
       "    <tr>\n",
       "      <th>4</th>\n",
       "      <td>5</td>\n",
       "      <td>12.329310</td>\n",
       "      <td>34.656785</td>\n",
       "    </tr>\n",
       "    <tr>\n",
       "      <th>5</th>\n",
       "      <td>6</td>\n",
       "      <td>14.544648</td>\n",
       "      <td>14.055095</td>\n",
       "    </tr>\n",
       "    <tr>\n",
       "      <th>6</th>\n",
       "      <td>7</td>\n",
       "      <td>14.579986</td>\n",
       "      <td>11.922458</td>\n",
       "    </tr>\n",
       "    <tr>\n",
       "      <th>7</th>\n",
       "      <td>8</td>\n",
       "      <td>14.486820</td>\n",
       "      <td>12.533399</td>\n",
       "    </tr>\n",
       "    <tr>\n",
       "      <th>8</th>\n",
       "      <td>9</td>\n",
       "      <td>14.503166</td>\n",
       "      <td>12.904961</td>\n",
       "    </tr>\n",
       "    <tr>\n",
       "      <th>9</th>\n",
       "      <td>10</td>\n",
       "      <td>13.331417</td>\n",
       "      <td>23.815244</td>\n",
       "    </tr>\n",
       "  </tbody>\n",
       "</table>\n",
       "</div>"
      ],
      "text/plain": [
       "   Fold  Train Error Poly  Test Error Poly\n",
       "0     1         15.006067         8.059258\n",
       "1     2         13.758195        19.165389\n",
       "2     3         14.685211        11.485820\n",
       "3     4         14.219525        15.247364\n",
       "4     5         12.329310        34.656785\n",
       "5     6         14.544648        14.055095\n",
       "6     7         14.579986        11.922458\n",
       "7     8         14.486820        12.533399\n",
       "8     9         14.503166        12.904961\n",
       "9    10         13.331417        23.815244"
      ]
     },
     "execution_count": 27,
     "metadata": {},
     "output_type": "execute_result"
    }
   ],
   "source": [
    "pd.DataFrame({\"Fold\": np.arange(1,11),\"Train Error Poly\": polytrain_mse_list,\"Test Error Poly\":polytest_mse_list})"
   ]
  },
  {
   "cell_type": "markdown",
   "metadata": {},
   "source": [
    "**Explanation findings question 1.3**\n",
    "\n",
    "Comparing the table above to the table of the previous question, we can conclude that the quadratic regression model generally performs better than the simple linear regression model. Specifically, the train and test errors of the polynomial model are lower in (almost all of) the folds compared to the errors of the simple linear regression. This implies that the quadratic regression model seems to provide a better fit to the data which makes sense because the increased complexity (i.e. polynomial 2) allows to better capture the relationships between the features and target variable median price. In addition, the lower test errors imply that the quadratic model is better at generalizing to new data."
   ]
  },
  {
   "cell_type": "markdown",
   "metadata": {},
   "source": [
    "#### Question 1.4 (10 points)\n",
    "\n",
    "Perform cross-validation using ridge regression and lasso regression on different feature combinations (linear features vs. polynomial features obtained earlier respectively. Explain which method works better in this case. Check the coefficients and explain the differences between ridge regression and lasso regression."
   ]
  },
  {
   "cell_type": "code",
   "execution_count": 29,
   "metadata": {},
   "outputs": [],
   "source": [
    "from sklearn.linear_model import Ridge, Lasso\n",
    "from sklearn.model_selection import cross_val_score"
   ]
  },
  {
   "cell_type": "code",
   "execution_count": 30,
   "metadata": {},
   "outputs": [],
   "source": [
    "#Initializing\n",
    "ridge = Ridge()\n",
    "lasso = Lasso(alpha=1.0, max_iter=10000)\n",
    "model_list = [ridge,lasso]\n",
    "degree_list = [X, X_poly_no_interaction]"
   ]
  },
  {
   "cell_type": "code",
   "execution_count": 31,
   "metadata": {},
   "outputs": [],
   "source": [
    "#cross val using ridge and lasso with simple linear model\n",
    "for model in model_list:\n",
    "    \n",
    "    for x in range(2):\n",
    "        model.fit(degree_list[x],y)\n",
    "    \n",
    "        #10-fold cross-validation with MSE\n",
    "        test_scores = cross_val_score(model, degree_list[x], y, cv=10, scoring='neg_mean_squared_error')\n",
    "        \n",
    "        #Negate average of test errors \n",
    "        mean_test_error = -np.mean(test_scores)\n",
    "        if model == ridge and x == 0:\n",
    "            MSE_simple_ridge = mean_test_error\n",
    "            ridge_simple_coef = model.coef_\n",
    "        elif model == ridge and x==1:\n",
    "            MSE_poly_ridge = mean_test_error\n",
    "            ridge_poly_coef = model.coef_\n",
    "        elif model == lasso and x ==0:\n",
    "            MSE_simple_lasso = mean_test_error\n",
    "            lasso_simple_coef = model.coef_  \n",
    "        else:\n",
    "            MSE_poly_lasso = mean_test_error\n",
    "            lasso_poly_coef = model.coef_ "
   ]
  },
  {
   "cell_type": "code",
   "execution_count": 32,
   "metadata": {},
   "outputs": [
    {
     "data": {
      "text/html": [
       "<div>\n",
       "<style scoped>\n",
       "    .dataframe tbody tr th:only-of-type {\n",
       "        vertical-align: middle;\n",
       "    }\n",
       "\n",
       "    .dataframe tbody tr th {\n",
       "        vertical-align: top;\n",
       "    }\n",
       "\n",
       "    .dataframe thead th {\n",
       "        text-align: right;\n",
       "    }\n",
       "</style>\n",
       "<table border=\"1\" class=\"dataframe\">\n",
       "  <thead>\n",
       "    <tr style=\"text-align: right;\">\n",
       "      <th></th>\n",
       "      <th>Ridge MSE</th>\n",
       "      <th>Lasso MSE</th>\n",
       "    </tr>\n",
       "  </thead>\n",
       "  <tbody>\n",
       "    <tr>\n",
       "      <th>simple</th>\n",
       "      <td>34.078246</td>\n",
       "      <td>34.464085</td>\n",
       "    </tr>\n",
       "    <tr>\n",
       "      <th>polynomial</th>\n",
       "      <td>26.942921</td>\n",
       "      <td>30.776932</td>\n",
       "    </tr>\n",
       "  </tbody>\n",
       "</table>\n",
       "</div>"
      ],
      "text/plain": [
       "            Ridge MSE  Lasso MSE\n",
       "simple      34.078246  34.464085\n",
       "polynomial  26.942921  30.776932"
      ]
     },
     "execution_count": 32,
     "metadata": {},
     "output_type": "execute_result"
    }
   ],
   "source": [
    "index_labels = [\"simple\",\"polynomial\"]\n",
    "df_compare = pd.DataFrame({\"Ridge MSE\": [MSE_simple_ridge,MSE_poly_ridge],\"Lasso MSE\": [MSE_simple_lasso,MSE_poly_lasso]},index=index_labels)\n",
    "df_compare"
   ]
  },
  {
   "cell_type": "code",
   "execution_count": 33,
   "metadata": {},
   "outputs": [],
   "source": [
    "index_labels2 = ['CRIM','ZN','INDUS','CHAS','NOX','RM','AGE','DIS','RAD','TAX','PTRATIO','B','LSTAT']"
   ]
  },
  {
   "cell_type": "code",
   "execution_count": 34,
   "metadata": {},
   "outputs": [
    {
     "name": "stdout",
     "output_type": "stream",
     "text": [
      "Table with coefficients for Lasso and Ridge simple regression:\n",
      "\n"
     ]
    },
    {
     "data": {
      "text/html": [
       "<div>\n",
       "<style scoped>\n",
       "    .dataframe tbody tr th:only-of-type {\n",
       "        vertical-align: middle;\n",
       "    }\n",
       "\n",
       "    .dataframe tbody tr th {\n",
       "        vertical-align: top;\n",
       "    }\n",
       "\n",
       "    .dataframe thead th {\n",
       "        text-align: right;\n",
       "    }\n",
       "</style>\n",
       "<table border=\"1\" class=\"dataframe\">\n",
       "  <thead>\n",
       "    <tr style=\"text-align: right;\">\n",
       "      <th></th>\n",
       "      <th>Ridge simple</th>\n",
       "      <th>Lasso poly</th>\n",
       "    </tr>\n",
       "  </thead>\n",
       "  <tbody>\n",
       "    <tr>\n",
       "      <th>CRIM</th>\n",
       "      <td>-0.104595</td>\n",
       "      <td>-0.063437</td>\n",
       "    </tr>\n",
       "    <tr>\n",
       "      <th>ZN</th>\n",
       "      <td>0.047443</td>\n",
       "      <td>0.049165</td>\n",
       "    </tr>\n",
       "    <tr>\n",
       "      <th>INDUS</th>\n",
       "      <td>-0.008805</td>\n",
       "      <td>-0.000000</td>\n",
       "    </tr>\n",
       "    <tr>\n",
       "      <th>CHAS</th>\n",
       "      <td>2.552393</td>\n",
       "      <td>0.000000</td>\n",
       "    </tr>\n",
       "    <tr>\n",
       "      <th>NOX</th>\n",
       "      <td>-10.777015</td>\n",
       "      <td>-0.000000</td>\n",
       "    </tr>\n",
       "    <tr>\n",
       "      <th>RM</th>\n",
       "      <td>3.854000</td>\n",
       "      <td>0.949811</td>\n",
       "    </tr>\n",
       "    <tr>\n",
       "      <th>AGE</th>\n",
       "      <td>-0.005415</td>\n",
       "      <td>0.020910</td>\n",
       "    </tr>\n",
       "    <tr>\n",
       "      <th>DIS</th>\n",
       "      <td>-1.372654</td>\n",
       "      <td>-0.668790</td>\n",
       "    </tr>\n",
       "    <tr>\n",
       "      <th>RAD</th>\n",
       "      <td>0.290142</td>\n",
       "      <td>0.264206</td>\n",
       "    </tr>\n",
       "    <tr>\n",
       "      <th>TAX</th>\n",
       "      <td>-0.012912</td>\n",
       "      <td>-0.015212</td>\n",
       "    </tr>\n",
       "    <tr>\n",
       "      <th>PTRATIO</th>\n",
       "      <td>-0.876074</td>\n",
       "      <td>-0.722966</td>\n",
       "    </tr>\n",
       "    <tr>\n",
       "      <th>B</th>\n",
       "      <td>0.009673</td>\n",
       "      <td>0.008247</td>\n",
       "    </tr>\n",
       "    <tr>\n",
       "      <th>LSTAT</th>\n",
       "      <td>-0.533343</td>\n",
       "      <td>-0.761115</td>\n",
       "    </tr>\n",
       "  </tbody>\n",
       "</table>\n",
       "</div>"
      ],
      "text/plain": [
       "         Ridge simple  Lasso poly\n",
       "CRIM        -0.104595   -0.063437\n",
       "ZN           0.047443    0.049165\n",
       "INDUS       -0.008805   -0.000000\n",
       "CHAS         2.552393    0.000000\n",
       "NOX        -10.777015   -0.000000\n",
       "RM           3.854000    0.949811\n",
       "AGE         -0.005415    0.020910\n",
       "DIS         -1.372654   -0.668790\n",
       "RAD          0.290142    0.264206\n",
       "TAX         -0.012912   -0.015212\n",
       "PTRATIO     -0.876074   -0.722966\n",
       "B            0.009673    0.008247\n",
       "LSTAT       -0.533343   -0.761115"
      ]
     },
     "execution_count": 34,
     "metadata": {},
     "output_type": "execute_result"
    }
   ],
   "source": [
    "print(\"Table with coefficients for Lasso and Ridge simple regression:\")\n",
    "print(\"\")\n",
    "pd.DataFrame({\"Ridge simple\":ridge_simple_coef,\"Lasso poly\": lasso_simple_coef},index=index_labels2)"
   ]
  },
  {
   "cell_type": "code",
   "execution_count": 35,
   "metadata": {},
   "outputs": [],
   "source": [
    "index_labels3 = ['CRIM','ZN','INDUS','CHAS','NOX','RM','AGE','DIS','RAD','TAX','PTRATIO','B','LSTAT','CRIM2','ZN2','INDUS2','CHAS2', 'NOX2','RM2','AGE2','DIS2','RAD2','TAX2','PTRATIO2','B2','LSTAT2']"
   ]
  },
  {
   "cell_type": "code",
   "execution_count": 37,
   "metadata": {},
   "outputs": [
    {
     "name": "stdout",
     "output_type": "stream",
     "text": [
      "Table with coefficients for Lasso and Ridge polynomial regression:\n",
      "\n"
     ]
    },
    {
     "data": {
      "text/html": [
       "<div>\n",
       "<style scoped>\n",
       "    .dataframe tbody tr th:only-of-type {\n",
       "        vertical-align: middle;\n",
       "    }\n",
       "\n",
       "    .dataframe tbody tr th {\n",
       "        vertical-align: top;\n",
       "    }\n",
       "\n",
       "    .dataframe thead th {\n",
       "        text-align: right;\n",
       "    }\n",
       "</style>\n",
       "<table border=\"1\" class=\"dataframe\">\n",
       "  <thead>\n",
       "    <tr style=\"text-align: right;\">\n",
       "      <th></th>\n",
       "      <th>Ridge Poly</th>\n",
       "      <th>Lasso Poly</th>\n",
       "    </tr>\n",
       "  </thead>\n",
       "  <tbody>\n",
       "    <tr>\n",
       "      <th>CRIM</th>\n",
       "      <td>-0.351257</td>\n",
       "      <td>-0.000000</td>\n",
       "    </tr>\n",
       "    <tr>\n",
       "      <th>ZN</th>\n",
       "      <td>-0.054308</td>\n",
       "      <td>-0.000000</td>\n",
       "    </tr>\n",
       "    <tr>\n",
       "      <th>INDUS</th>\n",
       "      <td>-0.166512</td>\n",
       "      <td>-0.000000</td>\n",
       "    </tr>\n",
       "    <tr>\n",
       "      <th>CHAS</th>\n",
       "      <td>1.275836</td>\n",
       "      <td>0.000000</td>\n",
       "    </tr>\n",
       "    <tr>\n",
       "      <th>NOX</th>\n",
       "      <td>-6.403079</td>\n",
       "      <td>-0.000000</td>\n",
       "    </tr>\n",
       "    <tr>\n",
       "      <th>RM</th>\n",
       "      <td>-12.792450</td>\n",
       "      <td>-0.000000</td>\n",
       "    </tr>\n",
       "    <tr>\n",
       "      <th>AGE</th>\n",
       "      <td>-0.015272</td>\n",
       "      <td>0.000000</td>\n",
       "    </tr>\n",
       "    <tr>\n",
       "      <th>DIS</th>\n",
       "      <td>-2.343501</td>\n",
       "      <td>-0.000000</td>\n",
       "    </tr>\n",
       "    <tr>\n",
       "      <th>RAD</th>\n",
       "      <td>0.615301</td>\n",
       "      <td>0.000000</td>\n",
       "    </tr>\n",
       "    <tr>\n",
       "      <th>TAX</th>\n",
       "      <td>-0.028830</td>\n",
       "      <td>-0.030181</td>\n",
       "    </tr>\n",
       "    <tr>\n",
       "      <th>PTRATIO</th>\n",
       "      <td>-4.061011</td>\n",
       "      <td>-0.000000</td>\n",
       "    </tr>\n",
       "    <tr>\n",
       "      <th>B</th>\n",
       "      <td>0.026182</td>\n",
       "      <td>0.033887</td>\n",
       "    </tr>\n",
       "    <tr>\n",
       "      <th>LSTAT</th>\n",
       "      <td>-1.434549</td>\n",
       "      <td>-1.302793</td>\n",
       "    </tr>\n",
       "    <tr>\n",
       "      <th>CRIM2</th>\n",
       "      <td>0.002743</td>\n",
       "      <td>-0.001376</td>\n",
       "    </tr>\n",
       "    <tr>\n",
       "      <th>ZN2</th>\n",
       "      <td>0.000736</td>\n",
       "      <td>0.000325</td>\n",
       "    </tr>\n",
       "    <tr>\n",
       "      <th>INDUS2</th>\n",
       "      <td>0.006537</td>\n",
       "      <td>-0.000000</td>\n",
       "    </tr>\n",
       "    <tr>\n",
       "      <th>CHAS2</th>\n",
       "      <td>1.275836</td>\n",
       "      <td>0.000000</td>\n",
       "    </tr>\n",
       "    <tr>\n",
       "      <th>NOX2</th>\n",
       "      <td>-8.490605</td>\n",
       "      <td>-0.000000</td>\n",
       "    </tr>\n",
       "    <tr>\n",
       "      <th>RM2</th>\n",
       "      <td>1.250163</td>\n",
       "      <td>0.316487</td>\n",
       "    </tr>\n",
       "    <tr>\n",
       "      <th>AGE2</th>\n",
       "      <td>0.000123</td>\n",
       "      <td>0.000109</td>\n",
       "    </tr>\n",
       "    <tr>\n",
       "      <th>DIS2</th>\n",
       "      <td>0.120670</td>\n",
       "      <td>-0.064197</td>\n",
       "    </tr>\n",
       "    <tr>\n",
       "      <th>RAD2</th>\n",
       "      <td>-0.010358</td>\n",
       "      <td>0.003903</td>\n",
       "    </tr>\n",
       "    <tr>\n",
       "      <th>TAX2</th>\n",
       "      <td>0.000020</td>\n",
       "      <td>0.000025</td>\n",
       "    </tr>\n",
       "    <tr>\n",
       "      <th>PTRATIO2</th>\n",
       "      <td>0.093096</td>\n",
       "      <td>-0.020346</td>\n",
       "    </tr>\n",
       "    <tr>\n",
       "      <th>B2</th>\n",
       "      <td>-0.000044</td>\n",
       "      <td>-0.000053</td>\n",
       "    </tr>\n",
       "    <tr>\n",
       "      <th>LSTAT2</th>\n",
       "      <td>0.026027</td>\n",
       "      <td>0.022086</td>\n",
       "    </tr>\n",
       "  </tbody>\n",
       "</table>\n",
       "</div>"
      ],
      "text/plain": [
       "          Ridge Poly  Lasso Poly\n",
       "CRIM       -0.351257   -0.000000\n",
       "ZN         -0.054308   -0.000000\n",
       "INDUS      -0.166512   -0.000000\n",
       "CHAS        1.275836    0.000000\n",
       "NOX        -6.403079   -0.000000\n",
       "RM        -12.792450   -0.000000\n",
       "AGE        -0.015272    0.000000\n",
       "DIS        -2.343501   -0.000000\n",
       "RAD         0.615301    0.000000\n",
       "TAX        -0.028830   -0.030181\n",
       "PTRATIO    -4.061011   -0.000000\n",
       "B           0.026182    0.033887\n",
       "LSTAT      -1.434549   -1.302793\n",
       "CRIM2       0.002743   -0.001376\n",
       "ZN2         0.000736    0.000325\n",
       "INDUS2      0.006537   -0.000000\n",
       "CHAS2       1.275836    0.000000\n",
       "NOX2       -8.490605   -0.000000\n",
       "RM2         1.250163    0.316487\n",
       "AGE2        0.000123    0.000109\n",
       "DIS2        0.120670   -0.064197\n",
       "RAD2       -0.010358    0.003903\n",
       "TAX2        0.000020    0.000025\n",
       "PTRATIO2    0.093096   -0.020346\n",
       "B2         -0.000044   -0.000053\n",
       "LSTAT2      0.026027    0.022086"
      ]
     },
     "execution_count": 37,
     "metadata": {},
     "output_type": "execute_result"
    }
   ],
   "source": [
    "print(\"Table with coefficients for Lasso and Ridge polynomial regression:\")\n",
    "print(\"\")\n",
    "poly_coefs = pd.DataFrame({\"Ridge Poly\":ridge_poly_coef,\"Lasso Poly\": lasso_poly_coef},index=index_labels3)\n",
    "poly_coefs"
   ]
  },
  {
   "cell_type": "markdown",
   "metadata": {},
   "source": [
    "**Explanation question 1.4**\n",
    "\n",
    "Ridge and Lasso regularization are used to prevent overfitting. Specifically, in both Ridge and Lasso regression a penalty is added to the cost function, reducing the effect of some features on the model’s predicted values. In Ridge regression, the value of coefficients shrink as Lambda (regularization parameter) increases. Ridge regularization results in relatively small but nonzero coeffficients.\n",
    "\n",
    "On the other hand, Lasso regression pushes certain weights to be exactly 0. Crucially, this type of regularization tends to completely eliminate the coefficients of the least important features (i.e., set them to zero). In other words, Lasso regression creates a subset of features and returns only a few nonzero weights. \n",
    "\n",
    "The difference between Lasso and Ridge regression can be seen in the tables above. Whereas all features are assigned weights in Ridge regression, only a few features have non-zero weights in Lasso regression for both the simple and polynomial models.\n",
    "\n",
    "With respect to the model performance, following the MSE, Ridge regression performs slightly better than Lasso regression for the simple models; Ridge regression has an MSE of 34.078246 and Lasso regression has an MSE of 35.037835.The same goes for the quadratic models: Ridge regression has an MSE of 26.942921 compared to an MSE of 30.748620 for Lasso regression. \n",
    "\n",
    "Conclusively, Ridge regression outperforms Lasso regression in all model combinations. This might be due to the fact that the Lasso regression is too constraining and therefore results in high bias. The model with the lowest MSE (26) and therefore the best model is Ridge regression wiht polynomials. In addition, following lower MSEs, adding polynomial features improves the performance of both Ridge and Lasso regression models when compared to using simple linear features. This is likely because the polynomial features increase the complexity, and therefore the fit of the model, resulting in lower bias and increased accuracy."
   ]
  },
  {
   "cell_type": "markdown",
   "metadata": {},
   "source": [
    "## Question 2 (25 points) - Cancer Detection\n",
    "\n",
    "Given a dataset with features that are computed from a digitized image of a fine needle aspirate (FNA) of a breast mass, which describes characteristics of the cell nuclei present in the image, let's try to predict whether the patients are diagnosed as Malignant (M) or Benign (B)."
   ]
  },
  {
   "cell_type": "code",
   "execution_count": 38,
   "metadata": {},
   "outputs": [],
   "source": [
    "# LOAD DATA \n",
    "\n",
    "from sklearn.datasets import load_breast_cancer\n",
    "\"\"\"\n",
    "DOCS:\n",
    "https://scikit-learn.org/stable/modules/generated/sklearn.datasets.load_breast_cancer.html#sklearn.datasets.load_breast_cancer\n",
    "\"\"\"\n",
    "X, y = load_breast_cancer(return_X_y=True)"
   ]
  },
  {
   "cell_type": "markdown",
   "metadata": {},
   "source": [
    "## EDA Q2"
   ]
  },
  {
   "cell_type": "code",
   "execution_count": 39,
   "metadata": {},
   "outputs": [
    {
     "data": {
      "text/plain": [
       "569"
      ]
     },
     "execution_count": 39,
     "metadata": {},
     "output_type": "execute_result"
    }
   ],
   "source": [
    "## number of rows\n",
    "len(X)"
   ]
  },
  {
   "cell_type": "markdown",
   "metadata": {},
   "source": [
    "#### Question 2.1 (5 points) \n",
    "Use logistic regression to train the dataset through cross-validation, report the score on train and test set, respectively. Explain your findings."
   ]
  },
  {
   "cell_type": "code",
   "execution_count": 42,
   "metadata": {},
   "outputs": [],
   "source": [
    "from sklearn.linear_model import LogisticRegression\n",
    "from sklearn.metrics import accuracy_score"
   ]
  },
  {
   "cell_type": "code",
   "execution_count": 50,
   "metadata": {},
   "outputs": [
    {
     "name": "stdout",
     "output_type": "stream",
     "text": [
      "Cross-validated train set score: 0.9583\n",
      "Cross-validated test set score: 0.9600\n"
     ]
    },
    {
     "data": {
      "text/plain": [
       "LogisticRegression(max_iter=5000, random_state=42)"
      ]
     },
     "execution_count": 50,
     "metadata": {},
     "output_type": "execute_result"
    }
   ],
   "source": [
    "kf = KFold(n_splits=10)\n",
    "train_acc_list = []\n",
    "test_acc_list = []\n",
    "\n",
    "for train_idx, test_idx in kf.split(X):\n",
    "    log_reg = LogisticRegression(random_state=42, max_iter=5000)\n",
    "    X_train, X_test = X[train_index], X[test_index]\n",
    "    y_train, y_test = y[train_index], y[test_index]\n",
    "    \n",
    "    log_reg.fit(X_train, y_train)\n",
    "\n",
    "    # Accuracy on the training set\n",
    "    y_train_pred = log_reg.predict(X_train)\n",
    "    train_acc = accuracy_score(y_train, y_train_pred)\n",
    "    train_acc_list.append(train_acc)\n",
    "\n",
    "    # Accuracy on the test set\n",
    "    y_test_pred = log_reg.predict(X_test)\n",
    "    test_acc = accuracy_score(y_test, y_test_pred)\n",
    "    test_acc_list.append(test_acc)\n",
    "\n",
    "# Calculate the average accuracy across all folds for train and test sets\n",
    "train_cv_score = np.mean(train_acc_list)\n",
    "test_cv_score = np.mean(test_acc_list)\n",
    "print(f\"Cross-validated train set score: {train_cv_score:.4f}\")\n",
    "print(f\"Cross-validated test set score: {test_cv_score:.4f}\")\n",
    "\n",
    "# Train the model on the entire dataset\n",
    "final_log_reg = LogisticRegression(random_state=42, max_iter=5000)\n",
    "final_log_reg.fit(X, y)"
   ]
  },
  {
   "cell_type": "markdown",
   "metadata": {},
   "source": [
    "**Explanation findings question 2.1**"
   ]
  },
  {
   "cell_type": "markdown",
   "metadata": {},
   "source": [
    "An accuracy score of 0.9583 on the cross-validated training set indicates that the logistic regression model is able to correctly classify approximately 95.83% of the training samples on average across the 10 folds. Similarly, a test set score of 0.9600 shows that the model can correctly classify approximately 96.00% of the test samples on average across the 10 folds.\n",
    "\n",
    "Crucially, significantly high accuracy are assoicated with risk of overfitting (especially when there are many feature variables). Namely, high accuracy scores might imply that the model is too adjusted to the training set and therefore has a high chance of error due to variance. However, following the proximity of the train and test error, it can be concluded that the model also performs well on out of sample data, and is therefore not overfitting. Consequently, the model should be able to generalize well to new data."
   ]
  },
  {
   "cell_type": "markdown",
   "metadata": {},
   "source": [
    "#### Question 2.2 (5 points) \n",
    "By default, sklearn's logistic regression uses the L2 regularization. Now use the logistic regression without any regularzation to perform cross validation, report what do you find on train and test set."
   ]
  },
  {
   "cell_type": "code",
   "execution_count": 59,
   "metadata": {},
   "outputs": [
    {
     "name": "stdout",
     "output_type": "stream",
     "text": [
      "Cross-validated train set score: 0.9890\n",
      "Cross-validated test set score: 0.9800\n"
     ]
    },
    {
     "data": {
      "text/plain": [
       "LogisticRegression(max_iter=10000, penalty='none', random_state=42)"
      ]
     },
     "execution_count": 59,
     "metadata": {},
     "output_type": "execute_result"
    }
   ],
   "source": [
    "kf = KFold(n_splits=10)\n",
    "train_acc_list = []\n",
    "test_acc_list = []\n",
    "\n",
    "for train_idx, test_idx in kf.split(X):\n",
    "    log_reg = LogisticRegression(random_state=42, max_iter=10000,penalty='none')\n",
    "    X_train, X_test = X[train_index], X[test_index]\n",
    "    y_train, y_test = y[train_index], y[test_index]\n",
    "    \n",
    "    log_reg.fit(X_train, y_train)\n",
    "\n",
    "    # Accuracy on the training set\n",
    "    y_train_pred = log_reg.predict(X_train)\n",
    "    train_acc = accuracy_score(y_train, y_train_pred)\n",
    "    train_acc_list.append(train_acc)\n",
    "\n",
    "    # Accuracy on the test set\n",
    "    y_test_pred = log_reg.predict(X_test)\n",
    "    test_acc = accuracy_score(y_test, y_test_pred)\n",
    "    test_acc_list.append(test_acc)\n",
    "\n",
    "# Calculate the average accuracy across all folds for train and test sets\n",
    "train_cv_score = np.mean(train_acc_list)\n",
    "test_cv_score = np.mean(test_acc_list)\n",
    "print(f\"Cross-validated train set score: {train_cv_score:.4f}\")\n",
    "print(f\"Cross-validated test set score: {test_cv_score:.4f}\")\n",
    "\n",
    "# Train the model on the entire dataset\n",
    "final_log_reg = LogisticRegression(random_state=42, max_iter=10000,penalty='none')\n",
    "final_log_reg.fit(X, y)"
   ]
  },
  {
   "cell_type": "markdown",
   "metadata": {},
   "source": [
    "**Explanation findings question 2.2**"
   ]
  },
  {
   "cell_type": "markdown",
   "metadata": {},
   "source": [
    "As can be seen above, the cross validated train test score and cross validated test set score are both higher compared to train and test scores generated in the previous question (Logisitc regression with L2 regularization). Given L2 regularization penalizes complex models, hereby decreasing fit and incrasing bias, it was expected that the cross validated train score for Logistic Regression with L2 regularization was lower (because the model is less sensitive to training data). \n",
    "\n",
    "Following this hypothesis, it was also hypothesized that the L2 with regularization would generate higher test scores (i.e., better able to generalize to new data) because it is less prone to overfitting. However, the test set score is also higher for the logistic regression without regularization, suggesting that this model is better at generalizing to new data. A significantly high test score for the logistic regression without L2 regularization might be caused by various factors including (but not limited to) high multicollinearity between features, low degree of complexity in dataset, and low degree of noise and outliers."
   ]
  },
  {
   "cell_type": "markdown",
   "metadata": {},
   "source": [
    "#### Question 2.3 (15 points) \n",
    "Check how many Benign and Malignant cases in the dataset. What might be the problem if we use the default score of the logistic regression cross-validation? Now adjust the class weight of M and L and retrain the model again to bias toward Malignant, using the relative weight of M and L as 2:1. What about the relaive weight to be 5:1, or 10:1? Explain what you find.\n",
    "\n",
    "Hint: you can use LogisticRegressionCV to combine LogisticRegression and cross-validation. "
   ]
  },
  {
   "cell_type": "code",
   "execution_count": 52,
   "metadata": {},
   "outputs": [
    {
     "name": "stdout",
     "output_type": "stream",
     "text": [
      "The number of Benighn cases in the dataset is 212.\n",
      "The number of Malignant cases in the dataset is 357.\n"
     ]
    }
   ],
   "source": [
    "# number of Benign cases in dataset\n",
    "benign = 0\n",
    "for x in y:\n",
    "    if x == 0:\n",
    "        benign += 1\n",
    "\n",
    "# number of Malignant cases in the dataset\n",
    "malignant = 0 \n",
    "\n",
    "for x in y:\n",
    "    if x == 1:\n",
    "        malignant += 1\n",
    "\n",
    "print(f\"The number of Benighn cases in the dataset is {benign}.\")\n",
    "print(f\"The number of Malignant cases in the dataset is {malignant}.\")"
   ]
  },
  {
   "cell_type": "markdown",
   "metadata": {},
   "source": [
    "In the context of breast cancer detection the cost of false negatives is significantly high (labeling a malignant case as benign could have serious consequences for the patient). Therefore, the problem when using the default score of logisitc regression cross-validation is that the default score of logistic regression cross-validation may lead to a model that prioritizes overall accuracy at the expense of high false negative rates for the Malignant class. This is because the default scoring metric for binary classification in scikit-learn is accuracy, which places equal weight on both true positives and true negatives. Hence, in the context of breast cancer detection we need to adjust the model in such a way that it factors in the high cost of misclassifying true (malignant) values as false (benign)."
   ]
  },
  {
   "cell_type": "markdown",
   "metadata": {},
   "source": [
    "**Updated model with weights**"
   ]
  },
  {
   "cell_type": "code",
   "execution_count": 55,
   "metadata": {},
   "outputs": [],
   "source": [
    "from sklearn.linear_model import LogisticRegressionCV"
   ]
  },
  {
   "cell_type": "code",
   "execution_count": 56,
   "metadata": {},
   "outputs": [
    {
     "name": "stdout",
     "output_type": "stream",
     "text": [
      "Weight ratio: 1\n",
      "Cross-validated train set score: 0.9510\n",
      "Cross-validated test set score: 0.9800\n",
      "Weight ratio: 2\n",
      "Cross-validated train set score: 0.9454\n",
      "Cross-validated test set score: 1.0000\n",
      "Weight ratio: 5\n",
      "Cross-validated train set score: 0.9463\n",
      "Cross-validated test set score: 1.0000\n",
      "Weight ratio: 10\n",
      "Cross-validated train set score: 0.9410\n",
      "Cross-validated test set score: 0.9600\n"
     ]
    }
   ],
   "source": [
    "# Define class weight ratios to try\n",
    "weight_ratios = [1, 2, 5, 10]\n",
    "\n",
    "for weight_ratio in weight_ratios:\n",
    "    # Set class weights based on weight ratio\n",
    "    class_weight = {0: 1, 1: weight_ratio}\n",
    "\n",
    "    # Define logistic regression model with cross-validation and class weights\n",
    "    log_reg = LogisticRegressionCV(random_state=42, max_iter=10000, cv=10, class_weight=class_weight)\n",
    "\n",
    "    # Train the model on the data\n",
    "    log_reg.fit(X, y)\n",
    "\n",
    "    # Print the accuracy score for the model\n",
    "    print(f\"Weight ratio: {weight_ratio}\")\n",
    "    print(f\"Cross-validated train set score: {log_reg.scores_[1].mean():.4f}\")\n",
    "    print(f\"Cross-validated test set score: {log_reg.score(X_test, y_test):.4f}\")"
   ]
  },
  {
   "cell_type": "markdown",
   "metadata": {},
   "source": [
    "**Explanation findings question 2.3**\n",
    "\n",
    "Weight ratio: 1\n",
    "This is the case when both classes have equal weights. The train set score is 0.9510, and the test set score is 0.9800. This means that the model's average accuracy is 95.10% on the train set and 98% on the test set across all cross-validation folds.\n",
    "\n",
    "Weight ratio: 2\n",
    "In this case, the minority class has twice the weight of the majority class. The train set score is 0.9454, and the test set score is 1.0000. The train set score slightly decreased compared to the weight ratio of 1, but the test set score increased to 100%. This might indicate that the model is slightly better at generalizing to unseen data when the minority class is given more importance.\n",
    "\n",
    "Weight ratio: 5\n",
    "With a weight ratio of 5, the minority class is now given five times more weight than the majority class. The train set score is 0.9463, and the test set score is 1.0000. Similar to the weight ratio of 2, the train set score is slightly lower than the equal weight case, but the test set score remains at 100%. This suggests that further increasing the importance of the minority class doesn't seem to improve the model's performance on the test set.\n",
    "\n",
    "Weight ratio: 10\n",
    "The minority class is given ten times more weight than the majority class. The train set score is 0.9410, and the test set score is 0.9600. In this case, both the train and test set scores have decreased compared to the previous weight ratios. This could indicate that the model is now overemphasizing the minority class, leading to reduced overall performance.\n",
    "\n",
    "In summary, your results show that giving more weight to the minority class can improve the model's performance on the test set, but only up to a certain point. In this case, weight ratios of 2 and 5 yielded the best test set scores. However, further increasing the weight of the minority class (i.e., a weight ratio of 10) led to reduced performance on both the train and test sets."
   ]
  },
  {
   "cell_type": "markdown",
   "metadata": {},
   "source": [
    "## Question 3 (50 points) - Call Me Maybe? \n",
    "\n",
    "\n",
    "\n",
    "![telemarketing](https://neilpatel.com/wp-content/uploads/2019/08/profissional-de-telemarketing-sorridente.jpeg)\n",
    "\n",
    "Telemarketing is a method of direct marketing in which a salesperson solicits prospective customers to buy products or services over the phone. It has become one of the most widely used marketing campaign methods to engage with customers with product and service opportunity. We have collected real data from a Portuguese retail bank, from May 2008 to June 2013 with thousands of phone contacts. \n",
    "\n",
    "\n",
    "\n",
    "\n",
    "The current practice of many data teams is to build such propensity models and predict customer's probability to adopt the product and target them from the highest probability to the lowest probability. Note that telemarketing may incur some costs for contacting the customer, thus the success (i.e., the generated profit) of using machine learning model requries further inspection.  As the data scientist, you are asked to build a propensity model to evaluate the effectiveness of their telemarketing campaigns, i.e. whether the customer subscribed to the term deposit.  \n",
    "\n",
    "**Telemarketing Dataset (bank.csv)**\n",
    "All customers are contained in the file bank.csv. Each line of this file after the header row represents one customer of the Portuguese bank, and has the following format:\n",
    "\n",
    "### bank client data:\n",
    "- age (numeric)\n",
    "- job : type of job (categorical: 'admin.','blue-collar','entrepreneur','housemaid','management','retired','self-employed','services','student','technician','unemployed','unknown')\n",
    "- marital : marital status (categorical: 'divorced','married','single','unknown'; note: 'divorced' means divorced or widowed)\n",
    "- education (categorical: 'primary', 'secondary', 'tertiary')\n",
    "- balance: amcount of bank account balance\n",
    "- default: has credit in default? (categorical: 'no','yes','unknown')\n",
    "- housing: has housing loan? (categorical: 'no','yes','unknown')\n",
    "- loan: has personal loan? (categorical: 'no','yes','unknown')\n",
    "\n",
    "### related with the last contact of the current campaign:\n",
    "- contact: contact communication type (categorical: 'cellular','telephone', 'unknown')\n",
    "- day: last contact day of month\n",
    "- month: last contact month of year (categorical: 'jan', 'feb', 'mar', ..., 'nov', 'dec')\n",
    "- duration: last contact duration, in seconds (numeric). **Important note: this attribute highly affects the output target (e.g., if duration=0 then y='no'). Yet, the duration is not known before a call is performed.**\n",
    "\n",
    "### other attributes:\n",
    "- campaign: number of contacts performed during this campaign and for this client (numeric, includes last contact)\n",
    "- pdays: number of days that passed by after the client was last contacted from a previous campaign (numeric; -1 means client was not previously contacted)\n",
    "- previous: number of contacts performed before this campaign and for this client (numeric)\n",
    "- poutcome: outcome of the previous marketing campaign (categorical: 'failure','nonexistent','success')\n",
    "- y - has the client subscribed a term deposit? (binary: 'yes','no')\n",
    "\n",
    "\n",
    "Answer the following questions using the provided dataset. You can write down intermediate results towards the final answers. If any model invovles random_state, set it to be 42."
   ]
  },
  {
   "cell_type": "code",
   "execution_count": 60,
   "metadata": {},
   "outputs": [
    {
     "data": {
      "text/html": [
       "<div>\n",
       "<style scoped>\n",
       "    .dataframe tbody tr th:only-of-type {\n",
       "        vertical-align: middle;\n",
       "    }\n",
       "\n",
       "    .dataframe tbody tr th {\n",
       "        vertical-align: top;\n",
       "    }\n",
       "\n",
       "    .dataframe thead th {\n",
       "        text-align: right;\n",
       "    }\n",
       "</style>\n",
       "<table border=\"1\" class=\"dataframe\">\n",
       "  <thead>\n",
       "    <tr style=\"text-align: right;\">\n",
       "      <th></th>\n",
       "      <th>age</th>\n",
       "      <th>job</th>\n",
       "      <th>marital</th>\n",
       "      <th>education</th>\n",
       "      <th>default</th>\n",
       "      <th>balance</th>\n",
       "      <th>housing</th>\n",
       "      <th>loan</th>\n",
       "      <th>contact</th>\n",
       "      <th>day</th>\n",
       "      <th>month</th>\n",
       "      <th>duration</th>\n",
       "      <th>campaign</th>\n",
       "      <th>pdays</th>\n",
       "      <th>previous</th>\n",
       "      <th>poutcome</th>\n",
       "      <th>y</th>\n",
       "    </tr>\n",
       "  </thead>\n",
       "  <tbody>\n",
       "    <tr>\n",
       "      <th>0</th>\n",
       "      <td>30</td>\n",
       "      <td>unemployed</td>\n",
       "      <td>married</td>\n",
       "      <td>primary</td>\n",
       "      <td>no</td>\n",
       "      <td>1787</td>\n",
       "      <td>no</td>\n",
       "      <td>no</td>\n",
       "      <td>cellular</td>\n",
       "      <td>19</td>\n",
       "      <td>oct</td>\n",
       "      <td>79</td>\n",
       "      <td>1</td>\n",
       "      <td>-1</td>\n",
       "      <td>0</td>\n",
       "      <td>unknown</td>\n",
       "      <td>no</td>\n",
       "    </tr>\n",
       "    <tr>\n",
       "      <th>1</th>\n",
       "      <td>33</td>\n",
       "      <td>services</td>\n",
       "      <td>married</td>\n",
       "      <td>secondary</td>\n",
       "      <td>no</td>\n",
       "      <td>4789</td>\n",
       "      <td>yes</td>\n",
       "      <td>yes</td>\n",
       "      <td>cellular</td>\n",
       "      <td>11</td>\n",
       "      <td>may</td>\n",
       "      <td>220</td>\n",
       "      <td>1</td>\n",
       "      <td>339</td>\n",
       "      <td>4</td>\n",
       "      <td>failure</td>\n",
       "      <td>no</td>\n",
       "    </tr>\n",
       "    <tr>\n",
       "      <th>2</th>\n",
       "      <td>35</td>\n",
       "      <td>management</td>\n",
       "      <td>single</td>\n",
       "      <td>tertiary</td>\n",
       "      <td>no</td>\n",
       "      <td>1350</td>\n",
       "      <td>yes</td>\n",
       "      <td>no</td>\n",
       "      <td>cellular</td>\n",
       "      <td>16</td>\n",
       "      <td>apr</td>\n",
       "      <td>185</td>\n",
       "      <td>1</td>\n",
       "      <td>330</td>\n",
       "      <td>1</td>\n",
       "      <td>failure</td>\n",
       "      <td>no</td>\n",
       "    </tr>\n",
       "    <tr>\n",
       "      <th>3</th>\n",
       "      <td>30</td>\n",
       "      <td>management</td>\n",
       "      <td>married</td>\n",
       "      <td>tertiary</td>\n",
       "      <td>no</td>\n",
       "      <td>1476</td>\n",
       "      <td>yes</td>\n",
       "      <td>yes</td>\n",
       "      <td>unknown</td>\n",
       "      <td>3</td>\n",
       "      <td>jun</td>\n",
       "      <td>199</td>\n",
       "      <td>4</td>\n",
       "      <td>-1</td>\n",
       "      <td>0</td>\n",
       "      <td>unknown</td>\n",
       "      <td>no</td>\n",
       "    </tr>\n",
       "    <tr>\n",
       "      <th>4</th>\n",
       "      <td>59</td>\n",
       "      <td>blue-collar</td>\n",
       "      <td>married</td>\n",
       "      <td>secondary</td>\n",
       "      <td>no</td>\n",
       "      <td>0</td>\n",
       "      <td>yes</td>\n",
       "      <td>no</td>\n",
       "      <td>unknown</td>\n",
       "      <td>5</td>\n",
       "      <td>may</td>\n",
       "      <td>226</td>\n",
       "      <td>1</td>\n",
       "      <td>-1</td>\n",
       "      <td>0</td>\n",
       "      <td>unknown</td>\n",
       "      <td>no</td>\n",
       "    </tr>\n",
       "  </tbody>\n",
       "</table>\n",
       "</div>"
      ],
      "text/plain": [
       "   age          job  marital  education default  balance housing loan  \\\n",
       "0   30   unemployed  married    primary      no     1787      no   no   \n",
       "1   33     services  married  secondary      no     4789     yes  yes   \n",
       "2   35   management   single   tertiary      no     1350     yes   no   \n",
       "3   30   management  married   tertiary      no     1476     yes  yes   \n",
       "4   59  blue-collar  married  secondary      no        0     yes   no   \n",
       "\n",
       "    contact  day month  duration  campaign  pdays  previous poutcome   y  \n",
       "0  cellular   19   oct        79         1     -1         0  unknown  no  \n",
       "1  cellular   11   may       220         1    339         4  failure  no  \n",
       "2  cellular   16   apr       185         1    330         1  failure  no  \n",
       "3   unknown    3   jun       199         4     -1         0  unknown  no  \n",
       "4   unknown    5   may       226         1     -1         0  unknown  no  "
      ]
     },
     "execution_count": 60,
     "metadata": {},
     "output_type": "execute_result"
    }
   ],
   "source": [
    "bank = pd.read_csv('bank.csv', sep=';')\n",
    "bank.head()"
   ]
  },
  {
   "cell_type": "code",
   "execution_count": 61,
   "metadata": {},
   "outputs": [
    {
     "data": {
      "text/plain": [
       "age           int64\n",
       "job          object\n",
       "marital      object\n",
       "education    object\n",
       "default      object\n",
       "balance       int64\n",
       "housing      object\n",
       "loan         object\n",
       "contact      object\n",
       "day           int64\n",
       "month        object\n",
       "duration      int64\n",
       "campaign      int64\n",
       "pdays         int64\n",
       "previous      int64\n",
       "poutcome     object\n",
       "y            object\n",
       "dtype: object"
      ]
     },
     "execution_count": 61,
     "metadata": {},
     "output_type": "execute_result"
    }
   ],
   "source": [
    "bank.dtypes"
   ]
  },
  {
   "cell_type": "code",
   "execution_count": 62,
   "metadata": {},
   "outputs": [
    {
     "data": {
      "text/html": [
       "<div>\n",
       "<style scoped>\n",
       "    .dataframe tbody tr th:only-of-type {\n",
       "        vertical-align: middle;\n",
       "    }\n",
       "\n",
       "    .dataframe tbody tr th {\n",
       "        vertical-align: top;\n",
       "    }\n",
       "\n",
       "    .dataframe thead th {\n",
       "        text-align: right;\n",
       "    }\n",
       "</style>\n",
       "<table border=\"1\" class=\"dataframe\">\n",
       "  <thead>\n",
       "    <tr style=\"text-align: right;\">\n",
       "      <th></th>\n",
       "      <th>age</th>\n",
       "      <th>balance</th>\n",
       "      <th>day</th>\n",
       "      <th>duration</th>\n",
       "      <th>campaign</th>\n",
       "      <th>pdays</th>\n",
       "      <th>previous</th>\n",
       "    </tr>\n",
       "  </thead>\n",
       "  <tbody>\n",
       "    <tr>\n",
       "      <th>count</th>\n",
       "      <td>4521.000000</td>\n",
       "      <td>4521.000000</td>\n",
       "      <td>4521.000000</td>\n",
       "      <td>4521.000000</td>\n",
       "      <td>4521.000000</td>\n",
       "      <td>4521.000000</td>\n",
       "      <td>4521.000000</td>\n",
       "    </tr>\n",
       "    <tr>\n",
       "      <th>mean</th>\n",
       "      <td>41.170095</td>\n",
       "      <td>1422.657819</td>\n",
       "      <td>15.915284</td>\n",
       "      <td>263.961292</td>\n",
       "      <td>2.793630</td>\n",
       "      <td>39.766645</td>\n",
       "      <td>0.542579</td>\n",
       "    </tr>\n",
       "    <tr>\n",
       "      <th>std</th>\n",
       "      <td>10.576211</td>\n",
       "      <td>3009.638142</td>\n",
       "      <td>8.247667</td>\n",
       "      <td>259.856633</td>\n",
       "      <td>3.109807</td>\n",
       "      <td>100.121124</td>\n",
       "      <td>1.693562</td>\n",
       "    </tr>\n",
       "    <tr>\n",
       "      <th>min</th>\n",
       "      <td>19.000000</td>\n",
       "      <td>-3313.000000</td>\n",
       "      <td>1.000000</td>\n",
       "      <td>4.000000</td>\n",
       "      <td>1.000000</td>\n",
       "      <td>-1.000000</td>\n",
       "      <td>0.000000</td>\n",
       "    </tr>\n",
       "    <tr>\n",
       "      <th>25%</th>\n",
       "      <td>33.000000</td>\n",
       "      <td>69.000000</td>\n",
       "      <td>9.000000</td>\n",
       "      <td>104.000000</td>\n",
       "      <td>1.000000</td>\n",
       "      <td>-1.000000</td>\n",
       "      <td>0.000000</td>\n",
       "    </tr>\n",
       "    <tr>\n",
       "      <th>50%</th>\n",
       "      <td>39.000000</td>\n",
       "      <td>444.000000</td>\n",
       "      <td>16.000000</td>\n",
       "      <td>185.000000</td>\n",
       "      <td>2.000000</td>\n",
       "      <td>-1.000000</td>\n",
       "      <td>0.000000</td>\n",
       "    </tr>\n",
       "    <tr>\n",
       "      <th>75%</th>\n",
       "      <td>49.000000</td>\n",
       "      <td>1480.000000</td>\n",
       "      <td>21.000000</td>\n",
       "      <td>329.000000</td>\n",
       "      <td>3.000000</td>\n",
       "      <td>-1.000000</td>\n",
       "      <td>0.000000</td>\n",
       "    </tr>\n",
       "    <tr>\n",
       "      <th>max</th>\n",
       "      <td>87.000000</td>\n",
       "      <td>71188.000000</td>\n",
       "      <td>31.000000</td>\n",
       "      <td>3025.000000</td>\n",
       "      <td>50.000000</td>\n",
       "      <td>871.000000</td>\n",
       "      <td>25.000000</td>\n",
       "    </tr>\n",
       "  </tbody>\n",
       "</table>\n",
       "</div>"
      ],
      "text/plain": [
       "               age       balance          day     duration     campaign  \\\n",
       "count  4521.000000   4521.000000  4521.000000  4521.000000  4521.000000   \n",
       "mean     41.170095   1422.657819    15.915284   263.961292     2.793630   \n",
       "std      10.576211   3009.638142     8.247667   259.856633     3.109807   \n",
       "min      19.000000  -3313.000000     1.000000     4.000000     1.000000   \n",
       "25%      33.000000     69.000000     9.000000   104.000000     1.000000   \n",
       "50%      39.000000    444.000000    16.000000   185.000000     2.000000   \n",
       "75%      49.000000   1480.000000    21.000000   329.000000     3.000000   \n",
       "max      87.000000  71188.000000    31.000000  3025.000000    50.000000   \n",
       "\n",
       "             pdays     previous  \n",
       "count  4521.000000  4521.000000  \n",
       "mean     39.766645     0.542579  \n",
       "std     100.121124     1.693562  \n",
       "min      -1.000000     0.000000  \n",
       "25%      -1.000000     0.000000  \n",
       "50%      -1.000000     0.000000  \n",
       "75%      -1.000000     0.000000  \n",
       "max     871.000000    25.000000  "
      ]
     },
     "execution_count": 62,
     "metadata": {},
     "output_type": "execute_result"
    }
   ],
   "source": [
    "bank.describe()"
   ]
  },
  {
   "cell_type": "code",
   "execution_count": 63,
   "metadata": {},
   "outputs": [
    {
     "data": {
      "text/plain": [
       "no     4000\n",
       "yes     521\n",
       "Name: y, dtype: int64"
      ]
     },
     "execution_count": 63,
     "metadata": {},
     "output_type": "execute_result"
    }
   ],
   "source": [
    "bank.y.value_counts()"
   ]
  },
  {
   "cell_type": "markdown",
   "metadata": {},
   "source": [
    "### Question 3.1 (15 points)\n",
    "\n",
    "Split the data into 80% training set and 20% test set. **Build a pipeline to preprocess the indicated numerical features and categorical features separately**. For numerical features 'balance', 'campaign', standardize these features. For categorical features 'job', 'marital', 'education', 'default', transform them through one-hot encoding. For the numeric feature 'age', convert it into the quartile categorical variable and transform it through one-hot encoding. \n",
    "\n",
    "Train a Logistic regression model with L2 regularization using 5-fold cross validation (default hyperparameter) on the train set and show the accuracy, precision, recall on the train set. Explain whether the model is useful for the bank to identify the customer propensity."
   ]
  },
  {
   "cell_type": "markdown",
   "metadata": {},
   "source": [
    "## 0 Importing libraries"
   ]
  },
  {
   "cell_type": "code",
   "execution_count": 71,
   "metadata": {},
   "outputs": [],
   "source": [
    "import matplotlib.pyplot as plt\n",
    "from sklearn.pipeline import Pipeline\n",
    "from sklearn.impute import SimpleImputer\n",
    "from sklearn.preprocessing import StandardScaler\n",
    "from sklearn.preprocessing import OneHotEncoder\n",
    "from sklearn.compose import ColumnTransformer\n",
    "from sklearn.base import BaseEstimator, TransformerMixin\n",
    "from sklearn.pipeline import FeatureUnion\n",
    "from sklearn.model_selection import train_test_split, cross_val_predict, cross_val_score, KFold\n",
    "from sklearn.metrics import accuracy_score, precision_score, recall_score, confusion_matrix\n",
    "from sklearn.linear_model import LogisticRegressionCV\n",
    "from sklearn.preprocessing import LabelEncoder"
   ]
  },
  {
   "cell_type": "markdown",
   "metadata": {},
   "source": [
    "## 0 Train Test Split"
   ]
  },
  {
   "cell_type": "code",
   "execution_count": 65,
   "metadata": {},
   "outputs": [],
   "source": [
    "# Split the data into train and test sets\n",
    "train_data, test_data = train_test_split(bank, test_size=0.2, random_state=42)\n",
    "\n",
    "bank_train = train_data "
   ]
  },
  {
   "cell_type": "markdown",
   "metadata": {},
   "source": [
    "## 1 EDA "
   ]
  },
  {
   "cell_type": "code",
   "execution_count": 66,
   "metadata": {},
   "outputs": [
    {
     "data": {
      "image/png": "[encoded data removed]",
      "text/plain": [
       "<Figure size 1440x1080 with 9 Axes>"
      ]
     },
     "metadata": {
      "needs_background": "light"
     },
     "output_type": "display_data"
    }
   ],
   "source": [
    "%matplotlib inline\n",
    "\n",
    "bank.hist(bins=50, figsize=(20,15))\n",
    "\n",
    "plt.show()"
   ]
  },
  {
   "cell_type": "code",
   "execution_count": 67,
   "metadata": {},
   "outputs": [],
   "source": [
    "# check for nan values\n",
    "sample_incomplete_rows = bank[bank.isnull().any(axis=1)].head()"
   ]
  },
  {
   "cell_type": "markdown",
   "metadata": {},
   "source": [
    "## 2 Preprocessing Pipeline"
   ]
  },
  {
   "cell_type": "code",
   "execution_count": 72,
   "metadata": {},
   "outputs": [],
   "source": [
    "class DataFrameSelector(BaseEstimator, TransformerMixin):\n",
    "    def __init__(self, attribute_names):\n",
    "        self.attribute_names = attribute_names\n",
    "    \n",
    "    def fit(self, X, y=None):\n",
    "        return self\n",
    "    \n",
    "    def transform(self, X):\n",
    "        return X[self.attribute_names]\n",
    "\n",
    "class AgeToQuartileTransformer(BaseEstimator, TransformerMixin):\n",
    "    def __init__(self, age_col='age'):\n",
    "        self.age_col = age_col\n",
    "    \n",
    "    def fit(self, X, y=None):\n",
    "        return self\n",
    "    \n",
    "    def transform(self, X):\n",
    "        age_quartiles = pd.cut(X[self.age_col], bins=np.percentile(X[self.age_col], [0, 25, 50, 75, 100]), include_lowest=True, labels=False)\n",
    "        return age_quartiles.to_frame()\n",
    "\n",
    "def get_preprocessor(num_attribs, cat_attribs, age_col='age'):\n",
    "    label_encoder = LabelEncoder()\n",
    "    \n",
    "    num_pipeline = Pipeline([\n",
    "        ('selector', DataFrameSelector(num_attribs)),\n",
    "        ('std_scaler', StandardScaler()),\n",
    "    ])\n",
    "\n",
    "    cat_pipeline = Pipeline([\n",
    "        ('selector', DataFrameSelector(cat_attribs)),\n",
    "        ('cat_encoder', OneHotEncoder(sparse=False)),\n",
    "    ])\n",
    "\n",
    "    age_pipeline = Pipeline([\n",
    "        ('selector', DataFrameSelector([age_col])),\n",
    "        ('age_to_quartile', AgeToQuartileTransformer(age_col)),\n",
    "        ('cat_encoder', OneHotEncoder(sparse=False)),\n",
    "    ])\n",
    "\n",
    "    preprocessor = ColumnTransformer([\n",
    "        ('num', num_pipeline, num_attribs),\n",
    "        ('cat', cat_pipeline, cat_attribs),\n",
    "        ('age', age_pipeline, [age_col]),\n",
    "    ])\n",
    "\n",
    "    return preprocessor"
   ]
  },
  {
   "cell_type": "code",
   "execution_count": 73,
   "metadata": {},
   "outputs": [],
   "source": [
    "# defining attributes \n",
    "cat_attribs = [\"job\", \"marital\", \"education\", \"default\"]\n",
    "num_attribs = [\"balance\",\"campaign\"]"
   ]
  },
  {
   "cell_type": "code",
   "execution_count": 74,
   "metadata": {},
   "outputs": [],
   "source": [
    "preprocessor = get_preprocessor(num_attribs,cat_attribs,age_col=\"age\")"
   ]
  },
  {
   "cell_type": "code",
   "execution_count": 75,
   "metadata": {},
   "outputs": [],
   "source": [
    "banking_prepared = preprocessor.fit_transform(bank_train)"
   ]
  },
  {
   "cell_type": "code",
   "execution_count": 76,
   "metadata": {},
   "outputs": [
    {
     "data": {
      "text/plain": [
       "(3616, 27)"
      ]
     },
     "execution_count": 76,
     "metadata": {},
     "output_type": "execute_result"
    }
   ],
   "source": [
    "banking_prepared.shape"
   ]
  },
  {
   "cell_type": "code",
   "execution_count": 77,
   "metadata": {},
   "outputs": [
    {
     "data": {
      "text/plain": [
       "(4521, 7)"
      ]
     },
     "execution_count": 77,
     "metadata": {},
     "output_type": "execute_result"
    }
   ],
   "source": [
    "bank[[\"balance\",\"campaign\",\"job\",\"marital\",\"education\",\"default\",\"age\"]].shape"
   ]
  },
  {
   "cell_type": "markdown",
   "metadata": {},
   "source": [
    "## 3 Logistic Regression Model and Performance scores"
   ]
  },
  {
   "cell_type": "code",
   "execution_count": 78,
   "metadata": {},
   "outputs": [
    {
     "name": "stdout",
     "output_type": "stream",
     "text": [
      "Accuracy is 0.8830199115044248.\n",
      "Recall is 0.0.\n",
      "Precision is 1.0.\n"
     ]
    }
   ],
   "source": [
    "# define target variable\n",
    "y = bank_train[\"y\"]\n",
    "\n",
    "log_reg_cv = LogisticRegressionCV(random_state=42, solver='lbfgs', max_iter=1000, n_jobs=-1)\n",
    "\n",
    "# Train the model on the training data\n",
    "log_reg_cv.fit(banking_prepared,y)\n",
    "\n",
    "# Make predictions on the testing data\n",
    "y_pred = log_reg_cv.predict(banking_prepared)\n",
    "\n",
    "#Calculate the precision score and avoid the warning message\n",
    "precision = precision_score(y, y_pred, pos_label=\"yes\",zero_division=1)\n",
    "recall = recall_score(y, y_pred, pos_label='yes')\n",
    "accuracy = accuracy_score(y, y_pred)\n",
    "\n",
    "print(f\"Accuracy is {accuracy}.\")\n",
    "print(f\"Recall is {recall}.\")\n",
    "print(f\"Precision is {precision}.\")"
   ]
  },
  {
   "cell_type": "markdown",
   "metadata": {},
   "source": [
    "**Explanation findings question 3.1**\n",
    "\n",
    "To determine if the model is useful for the bank to identify customer propensity, performance metrics including accuracy, recall, and precision need to be considered. At first sight, accuracy of 0.8830, meaning the proporiton of correct predicitions of the total predictions. Overall the model makes true predictions in about 80% of the cases. Secondly, a precision score of 1 means that the model is always correct when it predicts that a customer will subscribe. However, the recall (i.e. the proportion of true positive predictions out of the total actual positive cases) of 0.0 indicates that the model is not able to identify any customers who will subcribe to the deposit. Therefore, the precision score of 1 is likey due to the fact that the model does not make any positive predictions at all.\n",
    "\n",
    "Based on these performance metrics, the model is not useful for the bank to identify customers who will make a deposit. The recall of 0.0 indicates that the model is not able to identify any customers who will acquire the product, even though it has high precision."
   ]
  },
  {
   "cell_type": "markdown",
   "metadata": {},
   "source": [
    "### Question 3.2 (10 points)\n",
    "\n",
    "Now add more features to the model to see if we can improve the performance (categorical features: 'housing', 'loan' and numerical features: 'day', 'duration'). Use the preprocess pipeline built previously to transform the data. Train a Logistic regression model with L1 regularization using 5-fold cross validation on the train set, by fine-tuning the hyperparameter alpha, i.e. the regularization strength from [0.001, 0.01, 0.1, 1]. Choose the correct score function that **reflect the current data team's practice**. Report the average score with the best hyperparameter. **Does model performance improve, and if so, how?**\n",
    "\n",
    "**Expalin whether all features are useful for making prediction and why. List top 5 features that contribute to the prediction the most. If not all features are useful, list those unuseful features.**"
   ]
  },
  {
   "cell_type": "markdown",
   "metadata": {},
   "source": [
    "## 1 Defining preprocessor with extra features"
   ]
  },
  {
   "cell_type": "code",
   "execution_count": 79,
   "metadata": {},
   "outputs": [],
   "source": [
    "# defining features\n",
    "cat_attribs2 = [\"job\",\"marital\",\"education\",\"default\",\"housing\",\"loan\"]\n",
    "num_attribs2 = [\"balance\",\"campaign\",\"day\",\"duration\"]"
   ]
  },
  {
   "cell_type": "code",
   "execution_count": 82,
   "metadata": {},
   "outputs": [],
   "source": [
    "preprocessor2 = get_preprocessor(num_attribs2,cat_attribs2,age_col=\"age\")"
   ]
  },
  {
   "cell_type": "code",
   "execution_count": 83,
   "metadata": {},
   "outputs": [],
   "source": [
    "banking_prepared2 = preprocessor2.fit_transform(train_data)"
   ]
  },
  {
   "cell_type": "markdown",
   "metadata": {},
   "source": [
    "**Justification for score function recall:**\n",
    "\n",
    "The current practice of the data team is to build such propensity models and predict customer's probability to adopt the product and target them from the highest probability to the lowest probability. We need to factor in that telemarketing incurs costs for contacting the customer. However, considering the oppurtunity costs of missed memberships are larger than the costs of contacting people who don't acquire the product (i.e., false positives), the cost of of false negatives is highest. In order to minimze the false negative rate, we need to consider recall as score function."
   ]
  },
  {
   "cell_type": "code",
   "execution_count": 84,
   "metadata": {},
   "outputs": [
    {
     "name": "stdout",
     "output_type": "stream",
     "text": [
      "Accuracy is 0.8896570796460177.\n",
      "Recall is 0.19621749408983452.\n",
      "Precision is 0.5845070422535211.\n",
      "\n",
      "Best alpha: 1.0\n",
      "Average score for alpha 1.0: 0.18921568627450983\n"
     ]
    }
   ],
   "source": [
    "alpha_list = [0.001, 0.01, 0.1, 1]\n",
    "\n",
    "log_reg_cv2 = LogisticRegressionCV(penalty=\"l1\", solver='liblinear',random_state=42, max_iter=1000, n_jobs=-1, Cs=alpha_list, scoring=\"recall\")\n",
    "\n",
    "# Train the model on the training data\n",
    "log_reg_cv2.fit(banking_prepared2,y)\n",
    "\n",
    "# Make predictions on the testing data\n",
    "y_pred2 = log_reg_cv2.predict(banking_prepared2)\n",
    "\n",
    "#Calculate the precision score and avoid the warning message\n",
    "precision = precision_score(y, y_pred2, pos_label=\"yes\",zero_division=1)\n",
    "recall = recall_score(y, y_pred2, pos_label='yes')\n",
    "accuracy = accuracy_score(y, y_pred2)\n",
    "\n",
    "print(f\"Accuracy is {accuracy}.\")\n",
    "print(f\"Recall is {recall}.\")\n",
    "print(f\"Precision is {precision}.\")\n",
    "print(\"\")\n",
    "print('Best alpha:', log_reg_cv2.C_[0])\n",
    "print(f\"Average score for alpha {log_reg_cv2.C_[0]}:\",log_reg_cv2.scores_[\"yes\"].mean(axis=0).max())"
   ]
  },
  {
   "cell_type": "markdown",
   "metadata": {},
   "source": [
    "**Does model performance improve?**\n",
    "\n",
    "The model performance improves when using l1 regularization and setting \"recall\" as score function. Altough the accuracy is about the same (0.88) the recall score improved from 0.0 to 0.20. By combining L1 regularization with \"recall\" as the score function, the model is encouraged to select only the most relevant features while also prioritizing the identification of all positive cases, which leads to improved performance given the cost of false negatives is high in this context."
   ]
  },
  {
   "cell_type": "markdown",
   "metadata": {},
   "source": [
    "## 2 Feature Importance Ranking\n",
    "\n",
    "In order to determine what features contribute to prediction the most the coefficients of the best model (log_reg_cv2) are considered.\n"
   ]
  },
  {
   "cell_type": "code",
   "execution_count": 85,
   "metadata": {},
   "outputs": [
    {
     "name": "stdout",
     "output_type": "stream",
     "text": [
      "The top 5 features that contribute to prediction the most are: \n"
     ]
    },
    {
     "data": {
      "text/html": [
       "<div>\n",
       "<style scoped>\n",
       "    .dataframe tbody tr th:only-of-type {\n",
       "        vertical-align: middle;\n",
       "    }\n",
       "\n",
       "    .dataframe tbody tr th {\n",
       "        vertical-align: top;\n",
       "    }\n",
       "\n",
       "    .dataframe thead th {\n",
       "        text-align: right;\n",
       "    }\n",
       "</style>\n",
       "<table border=\"1\" class=\"dataframe\">\n",
       "  <thead>\n",
       "    <tr style=\"text-align: right;\">\n",
       "      <th></th>\n",
       "      <th>feature</th>\n",
       "      <th>coefficient</th>\n",
       "      <th>abs_coefficient</th>\n",
       "    </tr>\n",
       "  </thead>\n",
       "  <tbody>\n",
       "    <tr>\n",
       "      <th>3</th>\n",
       "      <td>duration</td>\n",
       "      <td>1.026792</td>\n",
       "      <td>1.026792</td>\n",
       "    </tr>\n",
       "    <tr>\n",
       "      <th>28</th>\n",
       "      <td>loan_yes</td>\n",
       "      <td>-0.795112</td>\n",
       "      <td>0.795112</td>\n",
       "    </tr>\n",
       "    <tr>\n",
       "      <th>26</th>\n",
       "      <td>housing_yes</td>\n",
       "      <td>-0.754531</td>\n",
       "      <td>0.754531</td>\n",
       "    </tr>\n",
       "    <tr>\n",
       "      <th>9</th>\n",
       "      <td>job_retired</td>\n",
       "      <td>0.716577</td>\n",
       "      <td>0.716577</td>\n",
       "    </tr>\n",
       "    <tr>\n",
       "      <th>6</th>\n",
       "      <td>job_entrepreneur</td>\n",
       "      <td>-0.664743</td>\n",
       "      <td>0.664743</td>\n",
       "    </tr>\n",
       "  </tbody>\n",
       "</table>\n",
       "</div>"
      ],
      "text/plain": [
       "             feature  coefficient  abs_coefficient\n",
       "3           duration     1.026792         1.026792\n",
       "28          loan_yes    -0.795112         0.795112\n",
       "26       housing_yes    -0.754531         0.754531\n",
       "9        job_retired     0.716577         0.716577\n",
       "6   job_entrepreneur    -0.664743         0.664743"
      ]
     },
     "execution_count": 85,
     "metadata": {},
     "output_type": "execute_result"
    }
   ],
   "source": [
    "# retrieving the names of the input features \n",
    "num_attribs = preprocessor2.named_transformers_['num']['selector'].attribute_names\n",
    "cat_attribs = preprocessor2.named_transformers_['cat']['cat_encoder'].get_feature_names_out(cat_attribs2)\n",
    "age_attribs = ['age_quartile_0', 'age_quartile_1', 'age_quartile_2', 'age_quartile_3']\n",
    "\n",
    "feature_names = np.concatenate([num_attribs, cat_attribs, age_attribs])\n",
    "\n",
    "# retrieving the coefficients of log_reg_cv2\n",
    "coefficients = log_reg_cv2.coef_.flatten()\n",
    "\n",
    "# Create a DataFrame with coefficients and feature names\n",
    "coef_df = pd.DataFrame({'feature': feature_names, 'coefficient': coefficients})\n",
    "\n",
    "coef_df['abs_coefficient'] = coef_df['coefficient'].abs()\n",
    "print(\"The top 5 features that contribute to prediction the most are: \")\n",
    "coef_df.sort_values(by=\"abs_coefficient\",ascending=False).head(5)"
   ]
  },
  {
   "cell_type": "markdown",
   "metadata": {},
   "source": [
    "The last 8 features in the table below have coefficients equal to zero, meaning they have no impact on the target variable. They should therefore be left out of the model. In addition, discarding features with a significantly small coefficients (for instance, smaller than 0.10) might benefit the model as it reduces  chances of overfitting (and therefore ensures a low variance error). As a consequence, a list of features to drop constitutes:\n",
    "\n",
    "education_primary,\n",
    "job_services,\n",
    "job_self-employed,\n",
    "age_quartile_2,\n",
    "balance,\n",
    "marital_single,\n",
    "age_quartile_1,\n",
    "day,\n",
    "education_secondary,\n",
    "default_yes,\n",
    "housing_no,\n",
    "job_technician,\n",
    "loan_no,\n",
    "job_housemaid,\n",
    "age_quartile_0,\n",
    "marital_divorced"
   ]
  },
  {
   "cell_type": "code",
   "execution_count": 86,
   "metadata": {},
   "outputs": [
    {
     "name": "stdout",
     "output_type": "stream",
     "text": [
      "Table with sorted coefficients:\n"
     ]
    },
    {
     "data": {
      "text/html": [
       "<div>\n",
       "<style scoped>\n",
       "    .dataframe tbody tr th:only-of-type {\n",
       "        vertical-align: middle;\n",
       "    }\n",
       "\n",
       "    .dataframe tbody tr th {\n",
       "        vertical-align: top;\n",
       "    }\n",
       "\n",
       "    .dataframe thead th {\n",
       "        text-align: right;\n",
       "    }\n",
       "</style>\n",
       "<table border=\"1\" class=\"dataframe\">\n",
       "  <thead>\n",
       "    <tr style=\"text-align: right;\">\n",
       "      <th></th>\n",
       "      <th>feature</th>\n",
       "      <th>coefficient</th>\n",
       "      <th>abs_coefficient</th>\n",
       "    </tr>\n",
       "  </thead>\n",
       "  <tbody>\n",
       "    <tr>\n",
       "      <th>14</th>\n",
       "      <td>education_unknown</td>\n",
       "      <td>-0.252111</td>\n",
       "      <td>0.252111</td>\n",
       "    </tr>\n",
       "    <tr>\n",
       "      <th>15</th>\n",
       "      <td>job_management</td>\n",
       "      <td>0.184916</td>\n",
       "      <td>0.184916</td>\n",
       "    </tr>\n",
       "    <tr>\n",
       "      <th>16</th>\n",
       "      <td>job_unemployed</td>\n",
       "      <td>-0.174915</td>\n",
       "      <td>0.174915</td>\n",
       "    </tr>\n",
       "    <tr>\n",
       "      <th>17</th>\n",
       "      <td>age_quartile_3</td>\n",
       "      <td>0.103570</td>\n",
       "      <td>0.103570</td>\n",
       "    </tr>\n",
       "    <tr>\n",
       "      <th>18</th>\n",
       "      <td>education_primary</td>\n",
       "      <td>-0.089949</td>\n",
       "      <td>0.089949</td>\n",
       "    </tr>\n",
       "    <tr>\n",
       "      <th>19</th>\n",
       "      <td>job_services</td>\n",
       "      <td>-0.058401</td>\n",
       "      <td>0.058401</td>\n",
       "    </tr>\n",
       "    <tr>\n",
       "      <th>20</th>\n",
       "      <td>job_self-employed</td>\n",
       "      <td>-0.053161</td>\n",
       "      <td>0.053161</td>\n",
       "    </tr>\n",
       "    <tr>\n",
       "      <th>21</th>\n",
       "      <td>age_quartile_2</td>\n",
       "      <td>-0.037910</td>\n",
       "      <td>0.037910</td>\n",
       "    </tr>\n",
       "    <tr>\n",
       "      <th>22</th>\n",
       "      <td>balance</td>\n",
       "      <td>0.026998</td>\n",
       "      <td>0.026998</td>\n",
       "    </tr>\n",
       "    <tr>\n",
       "      <th>23</th>\n",
       "      <td>marital_single</td>\n",
       "      <td>-0.020998</td>\n",
       "      <td>0.020998</td>\n",
       "    </tr>\n",
       "    <tr>\n",
       "      <th>24</th>\n",
       "      <td>age_quartile_1</td>\n",
       "      <td>-0.004423</td>\n",
       "      <td>0.004423</td>\n",
       "    </tr>\n",
       "    <tr>\n",
       "      <th>25</th>\n",
       "      <td>day</td>\n",
       "      <td>0.000638</td>\n",
       "      <td>0.000638</td>\n",
       "    </tr>\n",
       "    <tr>\n",
       "      <th>26</th>\n",
       "      <td>education_secondary</td>\n",
       "      <td>0.000000</td>\n",
       "      <td>0.000000</td>\n",
       "    </tr>\n",
       "    <tr>\n",
       "      <th>27</th>\n",
       "      <td>default_yes</td>\n",
       "      <td>0.000000</td>\n",
       "      <td>0.000000</td>\n",
       "    </tr>\n",
       "    <tr>\n",
       "      <th>28</th>\n",
       "      <td>housing_no</td>\n",
       "      <td>0.000000</td>\n",
       "      <td>0.000000</td>\n",
       "    </tr>\n",
       "    <tr>\n",
       "      <th>29</th>\n",
       "      <td>job_technician</td>\n",
       "      <td>0.000000</td>\n",
       "      <td>0.000000</td>\n",
       "    </tr>\n",
       "    <tr>\n",
       "      <th>30</th>\n",
       "      <td>loan_no</td>\n",
       "      <td>0.000000</td>\n",
       "      <td>0.000000</td>\n",
       "    </tr>\n",
       "    <tr>\n",
       "      <th>31</th>\n",
       "      <td>job_housemaid</td>\n",
       "      <td>0.000000</td>\n",
       "      <td>0.000000</td>\n",
       "    </tr>\n",
       "    <tr>\n",
       "      <th>32</th>\n",
       "      <td>age_quartile_0</td>\n",
       "      <td>0.000000</td>\n",
       "      <td>0.000000</td>\n",
       "    </tr>\n",
       "    <tr>\n",
       "      <th>33</th>\n",
       "      <td>marital_divorced</td>\n",
       "      <td>0.000000</td>\n",
       "      <td>0.000000</td>\n",
       "    </tr>\n",
       "  </tbody>\n",
       "</table>\n",
       "</div>"
      ],
      "text/plain": [
       "                feature  coefficient  abs_coefficient\n",
       "14    education_unknown    -0.252111         0.252111\n",
       "15       job_management     0.184916         0.184916\n",
       "16       job_unemployed    -0.174915         0.174915\n",
       "17       age_quartile_3     0.103570         0.103570\n",
       "18    education_primary    -0.089949         0.089949\n",
       "19         job_services    -0.058401         0.058401\n",
       "20    job_self-employed    -0.053161         0.053161\n",
       "21       age_quartile_2    -0.037910         0.037910\n",
       "22              balance     0.026998         0.026998\n",
       "23       marital_single    -0.020998         0.020998\n",
       "24       age_quartile_1    -0.004423         0.004423\n",
       "25                  day     0.000638         0.000638\n",
       "26  education_secondary     0.000000         0.000000\n",
       "27          default_yes     0.000000         0.000000\n",
       "28           housing_no     0.000000         0.000000\n",
       "29       job_technician     0.000000         0.000000\n",
       "30              loan_no     0.000000         0.000000\n",
       "31        job_housemaid     0.000000         0.000000\n",
       "32       age_quartile_0     0.000000         0.000000\n",
       "33     marital_divorced     0.000000         0.000000"
      ]
     },
     "execution_count": 86,
     "metadata": {},
     "output_type": "execute_result"
    }
   ],
   "source": [
    "print(\"Table with sorted coefficients:\")\n",
    "coef_sorted = coef_df.sort_values(by=\"abs_coefficient\",ascending=False)\n",
    "coef_sorted.reset_index(drop=True,inplace=True)\n",
    "coef_sorted.index += 1\n",
    "coef_sorted.tail(20)"
   ]
  },
  {
   "cell_type": "markdown",
   "metadata": {},
   "source": [
    "### Question 3.3 (10 points)\n",
    "\n",
    "Now use the best model found in the cross-validation to predict the test set, show the obtained confusion matrix. Assume that targeting each customer would cost 10 euros and if the customer subscribe, the company would earn 50 euros. If we perform targeted telemarketing to all customers that are predicted to subscribe in the test set, what's the resulting profit?"
   ]
  },
  {
   "cell_type": "code",
   "execution_count": 87,
   "metadata": {},
   "outputs": [],
   "source": [
    "from sklearn import metrics\n",
    "from sklearn.metrics import confusion_matrix"
   ]
  },
  {
   "cell_type": "code",
   "execution_count": 89,
   "metadata": {},
   "outputs": [
    {
     "name": "stdout",
     "output_type": "stream",
     "text": [
      "[[792  15]\n",
      " [ 75  23]]\n",
      "\n",
      "True Negatives: 792\n",
      "False Positives: 15\n",
      "False Negatives: 75\n",
      "True Positives: 23\n"
     ]
    }
   ],
   "source": [
    "#retrieve the actual y values of the test set\n",
    "test_y = test_data[\"y\"]\n",
    "\n",
    "# transform test data with preprocessing pipeline\n",
    "test_data_transformed = preprocessor2.transform(test_data)\n",
    "\n",
    "# use best model (log_reg_cv2) to make predictions\n",
    "test_pred = log_reg_cv2.predict(test_data_transformed)\n",
    "\n",
    "# compute confusion matrix\n",
    "cm = metrics.confusion_matrix(test_y, test_pred)\n",
    "\n",
    "tn = cm[0][0]\n",
    "fp = cm[0][1]\n",
    "fn = cm[1][0]\n",
    "tp = cm[1][1]\n",
    "\n",
    "print(cm)\n",
    "print(\"\")\n",
    "print(f\"True Negatives: {tn}\")\n",
    "print(f\"False Positives: {fp}\")\n",
    "print(f\"False Negatives: {fn}\")\n",
    "print(f\"True Positives: {tp}\")"
   ]
  },
  {
   "cell_type": "code",
   "execution_count": 92,
   "metadata": {},
   "outputs": [
    {
     "name": "stdout",
     "output_type": "stream",
     "text": [
      "The resulting profit would be equal to 770\n"
     ]
    }
   ],
   "source": [
    "subscription = 50 \n",
    "target_cost = 10 \n",
    "\n",
    "class Profit():\n",
    "    def __init__(self):\n",
    "        self.subscription = 50\n",
    "        self.target_cost = 10\n",
    "    \n",
    "    def profit_calc(self, tp, fp):\n",
    "        profit_tp = tp*(self.subscription-self.target_cost)\n",
    "        loss_fp = fp*(-self.target_cost)\n",
    "        profit = profit_tp + loss_fp \n",
    "        return profit\n",
    "    \n",
    "profit = Profit().profit_calc(tp,fp)\n",
    "print(f\"The resulting profit would be equal to {profit}\")"
   ]
  },
  {
   "cell_type": "markdown",
   "metadata": {},
   "source": [
    "### Question 3.4 (10 points)\n",
    "\n",
    "Now adjust the decision threshold in order to optimize the obtained profit. What would be the resulting threshold and profit? Is the propensity model built based on the targeting predicted probability useful in terms of profit maximizing? Explain."
   ]
  },
  {
   "cell_type": "code",
   "execution_count": 93,
   "metadata": {},
   "outputs": [],
   "source": [
    "from sklearn.metrics import precision_recall_curve"
   ]
  },
  {
   "cell_type": "code",
   "execution_count": 97,
   "metadata": {},
   "outputs": [],
   "source": [
    "le = LabelEncoder()\n",
    "train_y = train_data[\"y\"]\n",
    "train_y_en = le.fit_transform(train_y)\n",
    "test_y = le.transform(test_y)"
   ]
  },
  {
   "cell_type": "code",
   "execution_count": 101,
   "metadata": {},
   "outputs": [
    {
     "data": {
      "image/png": "[encoded data removed]",
      "text/plain": [
       "<Figure size 576x288 with 1 Axes>"
      ]
     },
     "metadata": {
      "needs_background": "light"
     },
     "output_type": "display_data"
    }
   ],
   "source": [
    "# first we explore relatinoship between recall and precision\n",
    "y_scores = cross_val_predict(log_reg_cv2, test_data_transformed, test_y, cv=5, method=\"decision_function\")\n",
    "\n",
    "precisions, recalls, thresholds = precision_recall_curve(test_y, y_scores)\n",
    "\n",
    "def plot_precision_recall_vs_threshold(precisions, recalls, thresholds):\n",
    "    plt.plot(thresholds, precisions[:-1], \"b--\", label=\"Precision\", linewidth=2)\n",
    "    plt.plot(thresholds, recalls[:-1], \"g-\", label=\"Recall\", linewidth=2)\n",
    "    plt.xlabel(\"Threshold\", fontsize=16)\n",
    "    plt.legend(loc=\"upper left\", fontsize=16)\n",
    "    plt.ylim([0, 1])\n",
    "\n",
    "plt.figure(figsize=(8, 4))\n",
    "plot_precision_recall_vs_threshold(precisions, recalls, thresholds)\n",
    "plt.xlim([-10, 10])\n",
    "\n",
    "plt.show()"
   ]
  },
  {
   "cell_type": "code",
   "execution_count": 98,
   "metadata": {},
   "outputs": [],
   "source": [
    "# update Profit class with optimization method \n",
    "class Profit():\n",
    "    def __init__(self):\n",
    "        self.subscription = 50\n",
    "        self.target_cost = 10\n",
    "        self.le = LabelEncoder()\n",
    "    \n",
    "    def profit_calc(self, tp, fp):\n",
    "        self.profit_tp = tp*(self.subscription-self.target_cost)\n",
    "        self.loss_fp = fp*(-self.target_cost)\n",
    "        self.profit = self.profit_tp + self.loss_fp \n",
    "        return self.profit\n",
    "    \n",
    "    def profit_maximization(self,model):\n",
    "            \n",
    "        profits = []\n",
    "        thresholds = np.linspace(0,1,num=1000)\n",
    "            \n",
    "        for threshold in thresholds:\n",
    "                \n",
    "            # Use predict_proba to compute the probabilities for each customer\n",
    "            probabilities = model.predict_proba(test_data_transformed)[:, 1]\n",
    "            \n",
    "            # Compute the predicted labels based on the threshold\n",
    "            y_pred = (probabilities >= threshold).astype(int)\n",
    "            \n",
    "            # confusion matrix\n",
    "            confusion_matrix = metrics.confusion_matrix(test_y, y_pred)\n",
    "            \n",
    "            # Calculate number of true positives and false negatives\n",
    "            tp = confusion_matrix[1, 1]\n",
    "            fp = confusion_matrix[0, 1]\n",
    "            \n",
    "            # Calculate profit\n",
    "            profit = self.profit_calc(tp, fp)\n",
    "            \n",
    "            # Store the profit\n",
    "            profits.append(profit)\n",
    "            \n",
    "        # Plot the profits as a function of the threshold\n",
    "        plt.plot(thresholds, profits)\n",
    "        plt.xlabel('Threshold')\n",
    "        plt.ylabel('Profit')\n",
    "        plt.title('Profit as a function of the threshold')\n",
    "        plt.show()\n",
    "            \n",
    "        # Print the threshold value that maximizes the profit\n",
    "        optimal_threshold = thresholds[np.argmax(profits)]\n",
    "        print(\"Optimal threshold: {:.2f}\".format(optimal_threshold))\n",
    "            \n",
    "        # Print the profit at the optimal threshold\n",
    "        optimal_profit = profits[np.argmax(profits)]\n",
    "        print(\"Optimal profit: {:.2f} euros\".format(optimal_profit))"
   ]
  },
  {
   "cell_type": "code",
   "execution_count": 99,
   "metadata": {},
   "outputs": [],
   "source": [
    "#initialize class \n",
    "best_threshold = Profit()"
   ]
  },
  {
   "cell_type": "code",
   "execution_count": 100,
   "metadata": {},
   "outputs": [
    {
     "data": {
      "image/png": "[encoded data removed]",
      "text/plain": [
       "<Figure size 432x288 with 1 Axes>"
      ]
     },
     "metadata": {
      "needs_background": "light"
     },
     "output_type": "display_data"
    },
    {
     "name": "stdout",
     "output_type": "stream",
     "text": [
      "Optimal threshold: 0.16\n",
      "Optimal profit: 1280.00 euros\n"
     ]
    }
   ],
   "source": [
    "best_threshold.profit_maximization(model=log_reg_cv2)"
   ]
  },
  {
   "cell_type": "markdown",
   "metadata": {},
   "source": [
    "**Note on usefulness model:**\n",
    "\n",
    "As we lowered the threshold compared to the original model (0.5 to 0.24), we are extremely positive in assessing people's willigness to subscribe. Specifically, if the predicted probability of someone subscribing to the deposit is greater than 0.24 this person is assigned a positive label (\"yes\"). This will increase the true positive rate (e.g. recall) but also the number of false positives. This model is useful in maximing profitability because it factors in the tradeoff between the cost of false positives (calling a customer without them subscribing), false negatives (oppurtunity costs of missed customer) and true positive (the yield of correctly predicting that a customer will subscribe)."
   ]
  },
  {
   "cell_type": "markdown",
   "metadata": {},
   "source": [
    "### Question 3.5 (5 points)\n",
    "\n",
    "Now train a random forest model, with 10 decision trees and max_depth=2, what is the profit that can be achieved given the threshold that you identified earlier? Do you need to increase or decrese the threshold to maximize the profit using random forest model? Explain your result."
   ]
  },
  {
   "cell_type": "code",
   "execution_count": 102,
   "metadata": {},
   "outputs": [],
   "source": [
    "from sklearn.ensemble import RandomForestClassifier"
   ]
  },
  {
   "cell_type": "code",
   "execution_count": 103,
   "metadata": {},
   "outputs": [],
   "source": [
    "# preparing features\n",
    "train_y_rf = train_data[\"y\"]\n",
    "test_y_rf = le.transform(test_data[\"y\"])\n",
    "banking_prepared_rf = preprocessor2.transform(train_data)\n",
    "test_prepared_rf = preprocessor2.transform(test_data)"
   ]
  },
  {
   "cell_type": "code",
   "execution_count": 107,
   "metadata": {},
   "outputs": [
    {
     "name": "stdout",
     "output_type": "stream",
     "text": [
      "For threshold 0.16, the profit than can be achieved according to the Random Forest model is 1030\n"
     ]
    }
   ],
   "source": [
    "# training random forest model\n",
    "rf_clf = RandomForestClassifier(n_estimators=10, max_depth=2, random_state=42)\n",
    "rf_clf.fit(banking_prepared_rf, train_y_rf)\n",
    "\n",
    "#probabilties of positive class\n",
    "probabilities = rf_clf.predict_proba(test_prepared_rf)[:,1]\n",
    "\n",
    "# computing predicted labels based on the threshold\n",
    "test_pred_thresh_rf = (probabilities >= 0.16).astype(int)\n",
    "\n",
    "cm_rf = metrics.confusion_matrix(test_y_rf, test_pred_thresh_rf)\n",
    "\n",
    "tp_rf = cm_rf[1, 1]\n",
    "fp_rf = cm_rf[0, 1]\n",
    "\n",
    "profit_rf_class = Profit()\n",
    "profit_rf = profit_rf_class.profit_calc(tp_rf,fp_rf)\n",
    "\n",
    "print(f\"For threshold 0.16, the profit than can be achieved according to the Random Forest model is {profit_rf}\")"
   ]
  },
  {
   "cell_type": "code",
   "execution_count": 108,
   "metadata": {},
   "outputs": [
    {
     "data": {
      "image/png": "[encoded data removed]",
      "text/plain": [
       "<Figure size 432x288 with 1 Axes>"
      ]
     },
     "metadata": {
      "needs_background": "light"
     },
     "output_type": "display_data"
    },
    {
     "name": "stdout",
     "output_type": "stream",
     "text": [
      "Optimal threshold: 0.14\n",
      "Optimal profit: 1250.00 euros\n"
     ]
    }
   ],
   "source": [
    "#use the method defined in the previous question to determine the threhsold for the maximizing profit\n",
    "profit_rf = profit_rf_class.profit_maximization(model=rf_clf)"
   ]
  },
  {
   "cell_type": "markdown",
   "metadata": {},
   "source": [
    "**Explanation results:**\n",
    "\n",
    "Relative to the profit maximizing threshold of the Logistic Model (0.16), we need to decrease the threshold in the Random Forest classifier (to 0.14) in order to achieve a maximum profit. This implies that the Random Forest model is more conservative in its predictions of positive instances. Specifically, it assigned lower probabilities of \"True\" (or subscribe) compared to the Logistic Model and therefore we had to lower the threshold to maximize the profit."
   ]
  }
 ],
 "metadata": {
  "kernelspec": {
   "display_name": "Python 3 (ipykernel)",
   "language": "python",
   "name": "python3"
  },
  "language_info": {
   "codemirror_mode": {
    "name": "ipython",
    "version": 3
   },
   "file_extension": ".py",
   "mimetype": "text/x-python",
   "name": "python",
   "nbconvert_exporter": "python",
   "pygments_lexer": "ipython3",
   "version": "3.9.12"
  },
  "vscode": {
   "interpreter": {
    "hash": "aee8b7b246df8f9039afb4144a1f6fd8d2ca17a180786b69acc140d282b71a49"
   }
  }
 },
 "nbformat": 4,
 "nbformat_minor": 4
}
